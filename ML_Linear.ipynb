{
 "cells": [
  {
   "cell_type": "code",
   "execution_count": 1,
   "metadata": {
    "collapsed": true
   },
   "outputs": [],
   "source": [
    "import pandas as pd\n",
    "import matplotlib.pyplot as plt\n",
    "import numpy as np\n",
    "from sklearn.tree import DecisionTreeRegressor\n",
    "from sklearn.neighbors import KNeighborsRegressor\n",
    "from sklearn.ensemble import RandomForestRegressor, AdaBoostRegressor, GradientBoostingRegressor, StackingRegressor, VotingRegressor, BaggingRegressor\n",
    "from sklearn.metrics import mean_squared_error\n",
    "from sklearn.model_selection import cross_val_score, train_test_split, RandomizedSearchCV\n",
    "from sklearn.linear_model import LinearRegression, Ridge\n",
    "from sklearn.preprocessing import StandardScaler"
   ]
  },
  {
   "cell_type": "markdown",
   "source": [
    "# Functions"
   ],
   "metadata": {
    "collapsed": false
   }
  },
  {
   "cell_type": "code",
   "execution_count": 2,
   "outputs": [],
   "source": [
    "def filter_outliers(data):\n",
    "    q1_prix, q2_prix, q3_prix, q4_prix = data.prix.quantile([0.25, 0.5, 0.75, 1])\n",
    "    iqr_prix = q3_prix - q1_prix\n",
    "    lower_prix = q1_prix- 1.5*iqr_prix\n",
    "    upper_prix = q3_prix + 1.5*iqr_prix\n",
    "    data_filtered = data.query('prix>=@lower_prix and prix<=@upper_prix')\n",
    "    return data_filtered\n",
    "\n",
    "def randomized_search(estimator_, X_train_, y_train_, param_grid_, cv_, verbose_, n_jobs_, n_iter_, scoring_='neg_mean_squared_error', random_state=1):\n",
    "    estimator_grid = RandomizedSearchCV(estimator=estimator_, param_distributions=param_grid_,\n",
    "                       cv=cv_, scoring=scoring_,\n",
    "                       verbose=verbose_, n_jobs=n_jobs_, n_iter=n_iter_, random_state=seed)\n",
    "    estimator_grid.fit(X_train_, y_train_)\n",
    "    return estimator_grid.best_estimator_, estimator_grid.best_params_\n",
    "\n",
    "def cross_val_rmse_(model_, X_train_, y_train_, cv_, scoring_='neg_mean_squared_error'):\n",
    "    model_cv_scores = cross_val_score(model_, X_train_, y_train_, cv=cv_, scoring=scoring_)\n",
    "    model_rmse = np.sqrt(-model_cv_scores.mean())\n",
    "    return model_rmse\n",
    "\n",
    "def cross_val_rmse_score_printer(models, n_folds, X_train, y_train):\n",
    "    models_rmses = {}\n",
    "    for name, model in models.items():\n",
    "        model.fit(X_train, y_train)\n",
    "        model_rmse = cross_val_rmse_(model, X_train, y_train, cv_=n_folds)\n",
    "        models_rmses[name] = model_rmse\n",
    "    for key, value in models_rmses.items():\n",
    "        print(f\"\\033[1m{key}\\033[0m cross-validation RMSE: \\033[1m{value:.2f}\\033[0m\")\n",
    "    return models_rmses"
   ],
   "metadata": {
    "collapsed": false
   }
  },
  {
   "cell_type": "markdown",
   "source": [
    "# Load the data"
   ],
   "metadata": {
    "collapsed": false
   }
  },
  {
   "cell_type": "code",
   "execution_count": 3,
   "outputs": [],
   "source": [
    "data = pd.read_csv(\"real_estate_PML.csv\")\n",
    "data.head()\n",
    "keys = ['Très Petit', 'Petit', 'Moyen', 'Grand', 'Très Grand' ]\n",
    "values = [1,2,3,4,5]\n",
    "mapped_dict = dict(zip(keys, values))"
   ],
   "metadata": {
    "collapsed": false
   }
  },
  {
   "cell_type": "markdown",
   "source": [
    "# Outliers removal"
   ],
   "metadata": {
    "collapsed": false
   }
  },
  {
   "cell_type": "code",
   "execution_count": 4,
   "outputs": [
    {
     "data": {
      "text/plain": "((2921, 8), (2176, 8), (876, 8))"
     },
     "execution_count": 4,
     "metadata": {},
     "output_type": "execute_result"
    }
   ],
   "source": [
    "paris, lyon, mrs = data.loc[data['ville']=='Paris',].copy(), data.loc[data['ville']=='Lyon',].copy(), data.loc[data['ville']=='Marseille',].copy()\n",
    "paris.shape, lyon.shape, mrs.shape"
   ],
   "metadata": {
    "collapsed": false
   }
  },
  {
   "cell_type": "code",
   "execution_count": 5,
   "outputs": [],
   "source": [
    "paris_filtered = filter_outliers(paris)\n",
    "lyon_filtered = filter_outliers(lyon)\n",
    "mrs_filtered = filter_outliers(mrs)\n"
   ],
   "metadata": {
    "collapsed": false
   }
  },
  {
   "cell_type": "code",
   "execution_count": 6,
   "outputs": [
    {
     "data": {
      "text/plain": "((2691, 8), (2053, 8), (798, 8))"
     },
     "execution_count": 6,
     "metadata": {},
     "output_type": "execute_result"
    }
   ],
   "source": [
    "paris_filtered.shape, lyon_filtered.shape, mrs_filtered.shape"
   ],
   "metadata": {
    "collapsed": false
   }
  },
  {
   "cell_type": "code",
   "execution_count": 7,
   "outputs": [
    {
     "data": {
      "text/plain": "((5973, 8), (5542, 8))"
     },
     "execution_count": 7,
     "metadata": {},
     "output_type": "execute_result"
    }
   ],
   "source": [
    "df = pd.concat([paris_filtered, lyon_filtered, mrs_filtered], axis=0, ignore_index=True)\n",
    "data.shape, df.shape"
   ],
   "metadata": {
    "collapsed": false
   }
  },
  {
   "cell_type": "markdown",
   "source": [
    "# Dummies"
   ],
   "metadata": {
    "collapsed": false
   }
  },
  {
   "cell_type": "code",
   "execution_count": 8,
   "outputs": [],
   "source": [
    "dummy = pd.get_dummies(df['ville'], dtype=float)\n",
    "df = pd.concat([dummy, df], axis=1).drop(['type_l', 'prix_m2', 'ville'], axis=1)"
   ],
   "metadata": {
    "collapsed": false
   }
  },
  {
   "cell_type": "code",
   "execution_count": 9,
   "outputs": [
    {
     "data": {
      "text/plain": "n_pieces\n3.0     1775\n2.0     1388\n4.0     1127\n1.0      716\n5.0      447\n6.0       73\n7.0       12\n8.0        2\n10.0       1\n25.0       1\nName: count, dtype: int64"
     },
     "execution_count": 9,
     "metadata": {},
     "output_type": "execute_result"
    }
   ],
   "source": [
    "df.loc[df['n_pieces']==0, 'n_pieces'] = 1\n",
    "df.n_pieces.value_counts()"
   ],
   "metadata": {
    "collapsed": false
   }
  },
  {
   "cell_type": "markdown",
   "source": [
    "# Data split and scaling"
   ],
   "metadata": {
    "collapsed": false
   }
  },
  {
   "cell_type": "code",
   "execution_count": 10,
   "outputs": [],
   "source": [
    "features = [col for col in df.columns if col != 'prix']\n",
    "seed = 25\n",
    "X_train, X_test, y_train, y_test = train_test_split(df[features].values, df.prix.values, test_size=0.2, random_state=seed)"
   ],
   "metadata": {
    "collapsed": false
   }
  },
  {
   "cell_type": "code",
   "execution_count": 11,
   "outputs": [],
   "source": [
    "scaler = StandardScaler()\n",
    "X_train_scaled = scaler.fit_transform(X_train)\n",
    "X_test_scaled = scaler.transform(X_test)"
   ],
   "metadata": {
    "collapsed": false
   }
  },
  {
   "cell_type": "markdown",
   "source": [
    "# Establish base models"
   ],
   "metadata": {
    "collapsed": false
   }
  },
  {
   "cell_type": "code",
   "execution_count": 12,
   "outputs": [],
   "source": [
    "lreg = LinearRegression()\n",
    "ridge = Ridge(alpha=0.5)\n",
    "dt = DecisionTreeRegressor(random_state=seed)\n",
    "rf = RandomForestRegressor(random_state=seed)\n",
    "knr = KNeighborsRegressor()"
   ],
   "metadata": {
    "collapsed": false
   }
  },
  {
   "cell_type": "code",
   "execution_count": 13,
   "outputs": [
    {
     "name": "stdout",
     "output_type": "stream",
     "text": [
      "\u001B[1mLinear Regresion\u001B[0m cross-validation RMSE: \u001B[1m177582.75\u001B[0m\n",
      "\u001B[1mRidge\u001B[0m cross-validation RMSE: \u001B[1m177582.06\u001B[0m\n",
      "\u001B[1mDecision Tree Regressor\u001B[0m cross-validation RMSE: \u001B[1m150136.42\u001B[0m\n",
      "\u001B[1mRandom Forest Regressor\u001B[0m cross-validation RMSE: \u001B[1m123069.19\u001B[0m\n",
      "\u001B[1mKNeighbors Regressor\u001B[0m cross-validation RMSE: \u001B[1m187849.65\u001B[0m\n"
     ]
    }
   ],
   "source": [
    "# RMSE on non-scaled features\n",
    "models = {'Linear Regresion': LinearRegression(),\n",
    "          'Ridge': Ridge(alpha=0.5),\n",
    "          'Decision Tree Regressor': DecisionTreeRegressor(random_state=25),\n",
    "          'Random Forest Regressor': RandomForestRegressor(random_state=25),\n",
    "          'KNeighbors Regressor': KNeighborsRegressor()}\n",
    "non_scaled_10cv_rmse = cross_val_rmse_score_printer(models, n_folds=10, X_train=X_train, y_train=y_train)"
   ],
   "metadata": {
    "collapsed": false
   }
  },
  {
   "cell_type": "code",
   "execution_count": 14,
   "outputs": [
    {
     "name": "stdout",
     "output_type": "stream",
     "text": [
      "\u001B[1mLinear Regresion\u001B[0m cross-validation RMSE: \u001B[1m177536.17\u001B[0m\n",
      "\u001B[1mRidge\u001B[0m cross-validation RMSE: \u001B[1m177581.88\u001B[0m\n",
      "\u001B[1mDecision Tree Regressor\u001B[0m cross-validation RMSE: \u001B[1m150349.17\u001B[0m\n",
      "\u001B[1mRandom Forest Regressor\u001B[0m cross-validation RMSE: \u001B[1m123088.81\u001B[0m\n",
      "\u001B[1mKNeighbors Regressor\u001B[0m cross-validation RMSE: \u001B[1m133710.88\u001B[0m\n"
     ]
    }
   ],
   "source": [
    "# RMSE on scaled features\n",
    "scaled_10cv_rmse = cross_val_rmse_score_printer(models, n_folds=10, X_train=X_train_scaled, y_train=y_train)"
   ],
   "metadata": {
    "collapsed": false
   }
  },
  {
   "cell_type": "markdown",
   "source": [
    "# Add new feature"
   ],
   "metadata": {
    "collapsed": false
   }
  },
  {
   "cell_type": "code",
   "execution_count": 15,
   "outputs": [
    {
     "data": {
      "text/plain": "   Lyon  Marseille  Paris  arr  n_pieces  n_chambres  surface_m2      prix   \n0   0.0        0.0    1.0   17       3.0         1.0       51.84  535000.0  \\\n1   0.0        0.0    1.0   15       3.0         2.0       40.77  470000.0   \n2   0.0        0.0    1.0   13       2.0         1.0       39.00  385000.0   \n3   0.0        0.0    1.0   13       2.0         1.0       36.03  383000.0   \n4   0.0        0.0    1.0   10       2.0         1.0       40.70  399000.0   \n\n  largeur  \n0       3  \n1       3  \n2       2  \n3       2  \n4       3  ",
      "text/html": "<div>\n<style scoped>\n    .dataframe tbody tr th:only-of-type {\n        vertical-align: middle;\n    }\n\n    .dataframe tbody tr th {\n        vertical-align: top;\n    }\n\n    .dataframe thead th {\n        text-align: right;\n    }\n</style>\n<table border=\"1\" class=\"dataframe\">\n  <thead>\n    <tr style=\"text-align: right;\">\n      <th></th>\n      <th>Lyon</th>\n      <th>Marseille</th>\n      <th>Paris</th>\n      <th>arr</th>\n      <th>n_pieces</th>\n      <th>n_chambres</th>\n      <th>surface_m2</th>\n      <th>prix</th>\n      <th>largeur</th>\n    </tr>\n  </thead>\n  <tbody>\n    <tr>\n      <th>0</th>\n      <td>0.0</td>\n      <td>0.0</td>\n      <td>1.0</td>\n      <td>17</td>\n      <td>3.0</td>\n      <td>1.0</td>\n      <td>51.84</td>\n      <td>535000.0</td>\n      <td>3</td>\n    </tr>\n    <tr>\n      <th>1</th>\n      <td>0.0</td>\n      <td>0.0</td>\n      <td>1.0</td>\n      <td>15</td>\n      <td>3.0</td>\n      <td>2.0</td>\n      <td>40.77</td>\n      <td>470000.0</td>\n      <td>3</td>\n    </tr>\n    <tr>\n      <th>2</th>\n      <td>0.0</td>\n      <td>0.0</td>\n      <td>1.0</td>\n      <td>13</td>\n      <td>2.0</td>\n      <td>1.0</td>\n      <td>39.00</td>\n      <td>385000.0</td>\n      <td>2</td>\n    </tr>\n    <tr>\n      <th>3</th>\n      <td>0.0</td>\n      <td>0.0</td>\n      <td>1.0</td>\n      <td>13</td>\n      <td>2.0</td>\n      <td>1.0</td>\n      <td>36.03</td>\n      <td>383000.0</td>\n      <td>2</td>\n    </tr>\n    <tr>\n      <th>4</th>\n      <td>0.0</td>\n      <td>0.0</td>\n      <td>1.0</td>\n      <td>10</td>\n      <td>2.0</td>\n      <td>1.0</td>\n      <td>40.70</td>\n      <td>399000.0</td>\n      <td>3</td>\n    </tr>\n  </tbody>\n</table>\n</div>"
     },
     "execution_count": 15,
     "metadata": {},
     "output_type": "execute_result"
    }
   ],
   "source": [
    "containers = [0,20,40,80,160,df['surface_m2'].max()]\n",
    "df['largeur'] = pd.cut(df['surface_m2'], containers, labels = keys)\n",
    "df['largeur']=df['largeur'].map(mapped_dict)\n",
    "df.head()"
   ],
   "metadata": {
    "collapsed": false
   }
  },
  {
   "cell_type": "code",
   "execution_count": 21,
   "outputs": [],
   "source": [
    "new_features = [col for col in df.columns if col!='prix']\n",
    "X_new = df[new_features].values\n",
    "X_new_train, X_new_test, y_new_train, y_new_test = train_test_split(X_new, df.prix.values, test_size=0.2, random_state=seed)\n",
    "X_new_train_scaled = scaler.fit_transform(X_new_train)\n",
    "X_new_test_scaled = scaler.transform(X_new_test)"
   ],
   "metadata": {
    "collapsed": false
   }
  },
  {
   "cell_type": "code",
   "execution_count": 22,
   "outputs": [
    {
     "name": "stdout",
     "output_type": "stream",
     "text": [
      "\u001B[1mLinear Regresion\u001B[0m cross-validation RMSE: \u001B[1m174499.15\u001B[0m\n",
      "\u001B[1mRidge\u001B[0m cross-validation RMSE: \u001B[1m174539.41\u001B[0m\n",
      "\u001B[1mDecision Tree Regressor\u001B[0m cross-validation RMSE: \u001B[1m150735.50\u001B[0m\n",
      "\u001B[1mRandom Forest Regressor\u001B[0m cross-validation RMSE: \u001B[1m123099.26\u001B[0m\n",
      "\u001B[1mKNeighbors Regressor\u001B[0m cross-validation RMSE: \u001B[1m134284.77\u001B[0m\n"
     ]
    }
   ],
   "source": [
    "scaled_10cv_rmse_new_features = cross_val_rmse_score_printer(models, n_folds=10, X_train=X_new_train_scaled, y_train=y_new_train)"
   ],
   "metadata": {
    "collapsed": false
   }
  },
  {
   "cell_type": "markdown",
   "source": [
    "## Comment on results\n"
   ],
   "metadata": {
    "collapsed": false
   },
   "execution_count": 17
  },
  {
   "cell_type": "markdown",
   "source": [
    "# Hyper parameter Tuning"
   ],
   "metadata": {
    "collapsed": false
   }
  },
  {
   "cell_type": "code",
   "execution_count": 26,
   "outputs": [
    {
     "data": {
      "text/plain": "{'algorithm': 'auto',\n 'leaf_size': 30,\n 'metric': 'minkowski',\n 'metric_params': None,\n 'n_jobs': None,\n 'n_neighbors': 5,\n 'p': 2,\n 'weights': 'uniform'}"
     },
     "execution_count": 26,
     "metadata": {},
     "output_type": "execute_result"
    }
   ],
   "source": [
    "# Linear Models.\n",
    "knr.get_params()"
   ],
   "metadata": {
    "collapsed": false
   }
  },
  {
   "cell_type": "code",
   "execution_count": 30,
   "outputs": [],
   "source": [
    "ridge_param = {\n",
    "    'alpha':[1e-6, 1e-5, 1e-4, 1e-3, 1e-2, 0.1, 1, 5, 10, 50],\n",
    "    'solver':['svd', 'cholesky', 'saga']}\n",
    "\n",
    "dt_params = {\n",
    "    'max_depth':range(1,20),\n",
    "    'min_samples_leaf':[0.1, 0.2, 0.3, 0.5, 0.8, 1],\n",
    "    'min_samples_split':[1, 2, 3, 5, 10]}\n",
    "\n",
    "rf_params = {\n",
    "    'bootstrap':[True, False],\n",
    "    'ccp_alpha':[0.2, 0.4, 0.6, 0.8, 1],\n",
    "    'max_depth':[1, 2, 4, 6, 8, 10, 12, 14, 15],\n",
    "    'min_samples_leaf':[0.2, 0.4, 0.6, 0.8, 1],\n",
    "    'n_estimators':[20, 50, 100, 250, 500]}\n",
    "\n",
    "knr_params = {\n",
    "    'algorithm':['ball_tree', 'kd_tree'],\n",
    "    'leaf_size':[10,20,30],\n",
    "    'n_neighbors':[1,3,5,10,15]}\n",
    "params_list = [ridge_param, dt_params, rf_params, knr_params]"
   ],
   "metadata": {
    "collapsed": false
   }
  },
  {
   "cell_type": "code",
   "execution_count": 38,
   "outputs": [
    {
     "name": "stdout",
     "output_type": "stream",
     "text": [
      "Model name: Ridge\n",
      "Model: Ridge(alpha=0.5)\n",
      "params: {'alpha': [1e-06, 1e-05, 0.0001, 0.001, 0.01, 0.1, 1, 5, 10, 50], 'solver': ['svd', 'cholesky', 'saga']}\n",
      "-------------------\n",
      "Model name: Decision Tree Regressor\n",
      "Model: DecisionTreeRegressor(random_state=25)\n",
      "params: {'max_depth': range(1, 20), 'min_samples_leaf': [0.1, 0.2, 0.3, 0.5, 0.8, 1], 'min_samples_split': [1, 2, 3, 5, 10]}\n",
      "-------------------\n",
      "Model name: Random Forest Regressor\n",
      "Model: RandomForestRegressor(random_state=25)\n",
      "params: {'bootstrap': [True, False], 'ccp_alpha': [0.2, 0.4, 0.6, 0.8, 1], 'max_depth': [1, 2, 4, 6, 8, 10, 12, 14, 15], 'min_samples_leaf': [0.2, 0.4, 0.6, 0.8, 1], 'n_estimators': [20, 50, 100, 250, 500]}\n",
      "-------------------\n",
      "Model name: KNeighbors Regressor\n",
      "Model: KNeighborsRegressor()\n",
      "params: {'algorithm': ['ball_tree', 'kd_tree'], 'leaf_size': [10, 20, 30], 'n_neighbors': [1, 3, 5, 10, 15]}\n",
      "-------------------\n"
     ]
    }
   ],
   "source": [
    "new_models = {\n",
    "          'Ridge': Ridge(alpha=0.5),\n",
    "          'Decision Tree Regressor': DecisionTreeRegressor(random_state=25),\n",
    "          'Random Forest Regressor': RandomForestRegressor(random_state=25),\n",
    "          'KNeighbors Regressor': KNeighborsRegressor()}\n",
    "\n",
    "best_model_dict = {}\n",
    "\n",
    "for (key,val), parameters in zip(new_models.items(), params_list):\n",
    "    best_model, model_best_hp = randomized_search(v, X_new_train_scaled, y_new_train, param_grid_=parameters, cv_=5, verbose_=0, n_jobs_=-1, n_iter_= 200)\n"
   ],
   "metadata": {
    "collapsed": false
   }
  },
  {
   "cell_type": "code",
   "execution_count": null,
   "outputs": [],
   "source": [],
   "metadata": {
    "collapsed": false
   }
  }
 ],
 "metadata": {
  "kernelspec": {
   "display_name": "Python 3",
   "language": "python",
   "name": "python3"
  },
  "language_info": {
   "codemirror_mode": {
    "name": "ipython",
    "version": 2
   },
   "file_extension": ".py",
   "mimetype": "text/x-python",
   "name": "python",
   "nbconvert_exporter": "python",
   "pygments_lexer": "ipython2",
   "version": "2.7.6"
  }
 },
 "nbformat": 4,
 "nbformat_minor": 0
}
