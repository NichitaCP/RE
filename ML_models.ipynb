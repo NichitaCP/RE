{
 "cells": [
  {
   "cell_type": "code",
   "execution_count": 8,
   "metadata": {
    "collapsed": true
   },
   "outputs": [],
   "source": [
    "import matplotlib.pyplot as plt\n",
    "import pandas as pd\n",
    "import numpy as np\n",
    "from sklearn.tree import DecisionTreeRegressor\n",
    "from sklearn.neighbors import KNeighborsRegressor\n",
    "from sklearn.ensemble import RandomForestRegressor, AdaBoostRegressor, GradientBoostingRegressor, StackingRegressor\n",
    "from sklearn.metrics import mean_squared_error\n",
    "from sklearn.model_selection import cross_val_score, train_test_split, RandomizedSearchCV\n",
    "from sklearn.linear_model import LinearRegression, Ridge\n",
    "from sklearn.preprocessing import StandardScaler"
   ]
  },
  {
   "cell_type": "markdown",
   "metadata": {},
   "source": [
    "# Functions"
   ]
  },
  {
   "cell_type": "code",
   "execution_count": 9,
   "metadata": {},
   "outputs": [],
   "source": [
    "def filter_outliers(data):\n",
    "    q1_prix, q2_prix, q3_prix, q4_prix = data.prix.quantile([0.25, 0.5, 0.75, 1])\n",
    "    iqr_prix = q3_prix - q1_prix\n",
    "    lower_prix = q1_prix - 1.5*iqr_prix\n",
    "    upper_prix = q3_prix + 1.5*iqr_prix\n",
    "    data_filtered = data.query('prix>=@lower_prix and prix<=@upper_prix')\n",
    "    return data_filtered\n",
    "\n",
    "def randomized_search(estimator_, X_train_, y_train_, param_grid_, cv_, verbose_, n_jobs_, n_iter_, scoring_='neg_mean_squared_error', random_state=1, error_score='raise'):\n",
    "    estimator_grid = RandomizedSearchCV(estimator=estimator_, param_distributions=param_grid_,\n",
    "                       cv=cv_, scoring=scoring_, error_score='raise',\n",
    "                       verbose=verbose_t, n_jobs=n_jobs_, n_iter=n_iter_, random_state=seed)\n",
    "    estimator_grid.fit(X_train_, y_train_)\n",
    "    return estimator_grid.best_estimator_, estimator_grid.best_params_\n",
    "\n",
    "def cross_val_rmse_(model_, X_train_, y_train_, cv_, scoring_='neg_mean_squared_error'):\n",
    "    model_cv_scores = cross_val_score(model_, X_train_, y_train_, cv=cv_, scoring=scoring_)\n",
    "    model_rmse = np.sqrt(-model_cv_scores.mean())\n",
    "    return model_rmse\n",
    "\n",
    "def cross_val_rmse_score_printer(models, n_folds, X_train, y_train):\n",
    "    models_rmses = {}\n",
    "    for name, model in models.items():\n",
    "        model.fit(X_train, y_train)\n",
    "        model_rmse = cross_val_rmse_(model, X_train, y_train, cv_=n_folds)\n",
    "        models_rmses[name] = model_rmse\n",
    "    for key, value in models_rmses.items():\n",
    "        print(f\"\\033[1m{key}\\033[0m cross-validation RMSE: \\033[1m{value:.2f}\\033[0m\")\n",
    "    return models_rmses"
   ]
  },
  {
   "cell_type": "markdown",
   "metadata": {},
   "source": [
    "# Load the data"
   ]
  },
  {
   "cell_type": "code",
   "execution_count": 10,
   "metadata": {},
   "outputs": [],
   "source": [
    "data = pd.read_csv(\"real_estate_PML.csv\")\n",
    "data.head()\n",
    "keys = ['Très Petit', 'Petit', 'Moyen', 'Grand', 'Très Grand' ]\n",
    "values = [1,2,3,4,5]\n",
    "mapped_dict = dict(zip(keys, values))"
   ]
  },
  {
   "cell_type": "markdown",
   "metadata": {},
   "source": [
    "# Outliers removal"
   ]
  },
  {
   "cell_type": "code",
   "execution_count": 11,
   "metadata": {},
   "outputs": [
    {
     "data": {
      "text/plain": [
       "((2921, 8), (2176, 8), (876, 8))"
      ]
     },
     "execution_count": 11,
     "metadata": {},
     "output_type": "execute_result"
    }
   ],
   "source": [
    "paris, lyon, mrs = data.loc[data['ville']=='Paris',].copy(), data.loc[data['ville']=='Lyon',].copy(), data.loc[data['ville']=='Marseille',].copy()\n",
    "paris.shape, lyon.shape, mrs.shape"
   ]
  },
  {
   "cell_type": "code",
   "execution_count": 12,
   "metadata": {},
   "outputs": [],
   "source": [
    "paris_filtered = filter_outliers(paris)\n",
    "lyon_filtered = filter_outliers(lyon)\n",
    "mrs_filtered = filter_outliers(mrs)\n"
   ]
  },
  {
   "cell_type": "code",
   "execution_count": 13,
   "metadata": {},
   "outputs": [
    {
     "data": {
      "text/plain": [
       "((2691, 8), (2053, 8), (798, 8))"
      ]
     },
     "execution_count": 13,
     "metadata": {},
     "output_type": "execute_result"
    }
   ],
   "source": [
    "paris_filtered.shape, lyon_filtered.shape, mrs_filtered.shape"
   ]
  },
  {
   "cell_type": "code",
   "execution_count": 14,
   "metadata": {},
   "outputs": [
    {
     "data": {
      "text/plain": [
       "((5973, 8), (5542, 8))"
      ]
     },
     "execution_count": 14,
     "metadata": {},
     "output_type": "execute_result"
    }
   ],
   "source": [
    "df = pd.concat([paris_filtered, lyon_filtered, mrs_filtered], axis=0, ignore_index=True)\n",
    "data.shape, df.shape"
   ]
  },
  {
   "cell_type": "markdown",
   "metadata": {},
   "source": [
    "# Dummies\n",
    "**EN**  \n",
    "We need to encode our categorical variables. We will use `pd.get_dummies()` function.  \n",
    "**FR**  \n"
   ]
  },
  {
   "cell_type": "code",
   "execution_count": 15,
   "metadata": {},
   "outputs": [],
   "source": [
    "dummy = pd.get_dummies(df['ville'], dtype=float)\n",
    "df = pd.concat([dummy, df], axis=1).drop(['type_l', 'prix_m2', 'ville'], axis=1)"
   ]
  },
  {
   "cell_type": "markdown",
   "metadata": {},
   "source": [
    "# Data split and scaling"
   ]
  },
  {
   "cell_type": "code",
   "execution_count": 16,
   "metadata": {},
   "outputs": [],
   "source": [
    "features = [col for col in df.columns if col != 'prix']\n",
    "seed = 4\n",
    "X_train, X_test, y_train, y_test = train_test_split(df[features].values, df.prix.values, test_size=0.1, random_state=seed)"
   ]
  },
  {
   "cell_type": "code",
   "execution_count": 22,
   "metadata": {},
   "outputs": [],
   "source": [
    "scaler = StandardScaler()\n",
    "X_train_scaled = scaler.fit_transform(X_train)\n",
    "X_test_scaled = scaler.transform(X_test)"
   ]
  },
  {
   "cell_type": "markdown",
   "metadata": {},
   "source": [
    "# Establish base models"
   ]
  },
  {
   "cell_type": "code",
   "execution_count": 23,
   "metadata": {},
   "outputs": [],
   "source": [
    "lreg = LinearRegression()\n",
    "ridge = Ridge(alpha=0.5)\n",
    "dt = DecisionTreeRegressor(random_state=seed)\n",
    "rf = RandomForestRegressor(random_state=seed)\n",
    "knr = KNeighborsRegressor()"
   ]
  },
  {
   "cell_type": "code",
   "execution_count": 25,
   "metadata": {},
   "outputs": [
    {
     "name": "stdout",
     "output_type": "stream",
     "text": [
      "\u001B[1mLinear Regresion\u001B[0m cross-validation RMSE: \u001B[1m178268.32\u001B[0m\n",
      "\u001B[1mRidge\u001B[0m cross-validation RMSE: \u001B[1m178268.01\u001B[0m\n",
      "\u001B[1mDecision Tree Regressor\u001B[0m cross-validation RMSE: \u001B[1m154060.78\u001B[0m\n",
      "\u001B[1mRandom Forest Regressor\u001B[0m cross-validation RMSE: \u001B[1m124380.12\u001B[0m\n",
      "\u001B[1mKNeighbors Regressor\u001B[0m cross-validation RMSE: \u001B[1m187944.40\u001B[0m\n"
     ]
    }
   ],
   "source": [
    "# RMSE on non-scaled features\n",
    "models = {'Linear Regresion': LinearRegression(),\n",
    "          'Ridge': Ridge(alpha=0.5),\n",
    "          'Decision Tree Regressor': DecisionTreeRegressor(random_state=seed),\n",
    "          'Random Forest Regressor': RandomForestRegressor(random_state=seed),\n",
    "          'KNeighbors Regressor': KNeighborsRegressor()}\n",
    "non_scaled_10cv_rmse = cross_val_rmse_score_printer(models, n_folds=10, X_train=X_train, y_train=y_train)"
   ]
  },
  {
   "cell_type": "code",
   "execution_count": 26,
   "metadata": {},
   "outputs": [
    {
     "name": "stdout",
     "output_type": "stream",
     "text": [
      "\u001B[1mLinear Regresion\u001B[0m cross-validation RMSE: \u001B[1m178268.72\u001B[0m\n",
      "\u001B[1mRidge\u001B[0m cross-validation RMSE: \u001B[1m178267.91\u001B[0m\n",
      "\u001B[1mDecision Tree Regressor\u001B[0m cross-validation RMSE: \u001B[1m153586.20\u001B[0m\n",
      "\u001B[1mRandom Forest Regressor\u001B[0m cross-validation RMSE: \u001B[1m124240.98\u001B[0m\n",
      "\u001B[1mKNeighbors Regressor\u001B[0m cross-validation RMSE: \u001B[1m134269.60\u001B[0m\n"
     ]
    }
   ],
   "source": [
    "# RMSE on scaled features\n",
    "scaled_10cv_rmse = cross_val_rmse_score_printer(models, n_folds=10, X_train=X_train_scaled, y_train=y_train)"
   ]
  },
  {
   "cell_type": "markdown",
   "metadata": {},
   "source": [
    "# Add new feature"
   ]
  },
  {
   "cell_type": "code",
   "execution_count": 27,
   "metadata": {},
   "outputs": [
    {
     "data": {
      "text/html": [
       "<div>\n",
       "<style scoped>\n",
       "    .dataframe tbody tr th:only-of-type {\n",
       "        vertical-align: middle;\n",
       "    }\n",
       "\n",
       "    .dataframe tbody tr th {\n",
       "        vertical-align: top;\n",
       "    }\n",
       "\n",
       "    .dataframe thead th {\n",
       "        text-align: right;\n",
       "    }\n",
       "</style>\n",
       "<table border=\"1\" class=\"dataframe\">\n",
       "  <thead>\n",
       "    <tr style=\"text-align: right;\">\n",
       "      <th></th>\n",
       "      <th>Lyon</th>\n",
       "      <th>Marseille</th>\n",
       "      <th>Paris</th>\n",
       "      <th>arr</th>\n",
       "      <th>n_pieces</th>\n",
       "      <th>n_chambres</th>\n",
       "      <th>surface_m2</th>\n",
       "      <th>prix</th>\n",
       "      <th>largeur</th>\n",
       "    </tr>\n",
       "  </thead>\n",
       "  <tbody>\n",
       "    <tr>\n",
       "      <th>0</th>\n",
       "      <td>0.0</td>\n",
       "      <td>0.0</td>\n",
       "      <td>1.0</td>\n",
       "      <td>17</td>\n",
       "      <td>3.0</td>\n",
       "      <td>1.0</td>\n",
       "      <td>51.84</td>\n",
       "      <td>535000.0</td>\n",
       "      <td>3</td>\n",
       "    </tr>\n",
       "    <tr>\n",
       "      <th>1</th>\n",
       "      <td>0.0</td>\n",
       "      <td>0.0</td>\n",
       "      <td>1.0</td>\n",
       "      <td>15</td>\n",
       "      <td>3.0</td>\n",
       "      <td>2.0</td>\n",
       "      <td>40.77</td>\n",
       "      <td>470000.0</td>\n",
       "      <td>3</td>\n",
       "    </tr>\n",
       "    <tr>\n",
       "      <th>2</th>\n",
       "      <td>0.0</td>\n",
       "      <td>0.0</td>\n",
       "      <td>1.0</td>\n",
       "      <td>13</td>\n",
       "      <td>2.0</td>\n",
       "      <td>1.0</td>\n",
       "      <td>39.00</td>\n",
       "      <td>385000.0</td>\n",
       "      <td>2</td>\n",
       "    </tr>\n",
       "    <tr>\n",
       "      <th>3</th>\n",
       "      <td>0.0</td>\n",
       "      <td>0.0</td>\n",
       "      <td>1.0</td>\n",
       "      <td>13</td>\n",
       "      <td>2.0</td>\n",
       "      <td>1.0</td>\n",
       "      <td>36.03</td>\n",
       "      <td>383000.0</td>\n",
       "      <td>2</td>\n",
       "    </tr>\n",
       "    <tr>\n",
       "      <th>4</th>\n",
       "      <td>0.0</td>\n",
       "      <td>0.0</td>\n",
       "      <td>1.0</td>\n",
       "      <td>10</td>\n",
       "      <td>2.0</td>\n",
       "      <td>1.0</td>\n",
       "      <td>40.70</td>\n",
       "      <td>399000.0</td>\n",
       "      <td>3</td>\n",
       "    </tr>\n",
       "  </tbody>\n",
       "</table>\n",
       "</div>"
      ],
      "text/plain": [
       "   Lyon  Marseille  Paris  arr  n_pieces  n_chambres  surface_m2      prix   \n",
       "0   0.0        0.0    1.0   17       3.0         1.0       51.84  535000.0  \\\n",
       "1   0.0        0.0    1.0   15       3.0         2.0       40.77  470000.0   \n",
       "2   0.0        0.0    1.0   13       2.0         1.0       39.00  385000.0   \n",
       "3   0.0        0.0    1.0   13       2.0         1.0       36.03  383000.0   \n",
       "4   0.0        0.0    1.0   10       2.0         1.0       40.70  399000.0   \n",
       "\n",
       "  largeur  \n",
       "0       3  \n",
       "1       3  \n",
       "2       2  \n",
       "3       2  \n",
       "4       3  "
      ]
     },
     "execution_count": 27,
     "metadata": {},
     "output_type": "execute_result"
    }
   ],
   "source": [
    "containers = [0,20,40,80,160,df['surface_m2'].max()]\n",
    "df['largeur'] = pd.cut(df['surface_m2'], containers, labels = keys)\n",
    "df['largeur']=df['largeur'].map(mapped_dict)\n",
    "df.head()"
   ]
  },
  {
   "cell_type": "code",
   "execution_count": 28,
   "metadata": {},
   "outputs": [],
   "source": [
    "new_features = [col for col in df.columns if col!='prix']\n",
    "X_new = df[new_features].values\n",
    "X_new_train, X_new_test, y_new_train, y_new_test = train_test_split(X_new, df.prix.values, test_size=0.1, random_state=seed)\n",
    "X_new_train_scaled = scaler.fit_transform(X_new_train)\n",
    "X_new_test_scaled = scaler.transform(X_new_test)"
   ]
  },
  {
   "cell_type": "code",
   "execution_count": 29,
   "metadata": {},
   "outputs": [
    {
     "name": "stdout",
     "output_type": "stream",
     "text": [
      "\u001B[1mLinear Regresion\u001B[0m cross-validation RMSE: \u001B[1m175811.18\u001B[0m\n",
      "\u001B[1mRidge\u001B[0m cross-validation RMSE: \u001B[1m175813.67\u001B[0m\n",
      "\u001B[1mDecision Tree Regressor\u001B[0m cross-validation RMSE: \u001B[1m153540.37\u001B[0m\n",
      "\u001B[1mRandom Forest Regressor\u001B[0m cross-validation RMSE: \u001B[1m124220.22\u001B[0m\n",
      "\u001B[1mKNeighbors Regressor\u001B[0m cross-validation RMSE: \u001B[1m135292.66\u001B[0m\n"
     ]
    }
   ],
   "source": [
    "scaled_10cv_rmse_new_features = cross_val_rmse_score_printer(models, n_folds=10, X_train=X_new_train_scaled, y_train=y_new_train)"
   ]
  },
  {
   "cell_type": "markdown",
   "metadata": {},
   "source": [
    "## Comment on results\n"
   ]
  },
  {
   "cell_type": "markdown",
   "metadata": {},
   "source": [
    "# Hyper parameter Tuning"
   ]
  },
  {
   "cell_type": "code",
   "execution_count": 32,
   "metadata": {},
   "outputs": [],
   "source": [
    "ridge_param = {\n",
    "    'alpha':[1e-6, 1e-5, 1e-4, 1e-3, 1e-2, 0.1, 1, 5, 10, 50],\n",
    "    'solver':['svd', 'cholesky', 'saga']}\n",
    "\n",
    "dt_params = {\n",
    "    'max_depth':range(1,20),\n",
    "    'min_samples_leaf':[0.1, 0.2, 0.3, 0.5, 0.8, 1],\n",
    "    'min_samples_split':[2, 3, 5, 10]}\n",
    "\n",
    "rf_params = {\n",
    "    'bootstrap':[True, False],\n",
    "    'ccp_alpha':[0.2, 0.4, 0.6, 0.8, 1],\n",
    "    'max_depth':[1, 2, 4, 6, 8, 10, 12, 14, 15],\n",
    "    'min_samples_leaf':[0.2, 0.4, 0.6, 0.8, 1],\n",
    "    'n_estimators':[20, 50, 100, 250, 500]}\n",
    "\n",
    "knr_params = {\n",
    "    'algorithm':['ball_tree', 'kd_tree'],\n",
    "    'leaf_size':[10,20,30],\n",
    "    'n_neighbors':[1,3,5,10,15]}\n",
    "params_list = [ridge_param, dt_params, rf_params, knr_params]"
   ]
  },
  {
   "cell_type": "code",
   "execution_count": 33,
   "metadata": {},
   "outputs": [
    {
     "name": "stderr",
     "output_type": "stream",
     "text": [
      "C:\\NKT\\RE\\Lib\\site-packages\\sklearn\\model_selection\\_search.py:305: UserWarning: The total space of parameters 30 is smaller than n_iter=150. Running 30 iterations. For exhaustive searches, use GridSearchCV.\n",
      "  warnings.warn(\n",
      "C:\\NKT\\RE\\Lib\\site-packages\\sklearn\\model_selection\\_search.py:305: UserWarning: The total space of parameters 30 is smaller than n_iter=150. Running 30 iterations. For exhaustive searches, use GridSearchCV.\n",
      "  warnings.warn(\n"
     ]
    }
   ],
   "source": [
    "new_models = {\n",
    "          'Ridge': Ridge(alpha=0.5),\n",
    "          'Decision Tree Regressor': DecisionTreeRegressor(random_state=25),\n",
    "          'Random Forest Regressor': RandomForestRegressor(random_state=25),\n",
    "          'KNeighbors Regressor': KNeighborsRegressor()}\n",
    "\n",
    "best_model_dict = {}\n",
    "best_hyper_params = []\n",
    "\n",
    "for (key,val), parameters in zip(new_models.items(), params_list):\n",
    "    best_model, model_best_hp = randomized_search(val, X_new_train_scaled, y_new_train, param_grid_=parameters, cv_=5, verbose_=0, n_jobs_=-1, n_iter_= 150)\n",
    "    best_model_dict[key] = best_model\n",
    "    model_best_hp['model'] = key\n",
    "    best_hyper_params.append(model_best_hp)"
   ]
  },
  {
   "cell_type": "markdown",
   "metadata": {},
   "source": [
    "## Explore Gradient Boosting and Adaptive Boosting for a stacking model"
   ]
  },
  {
   "cell_type": "code",
   "execution_count": 34,
   "metadata": {},
   "outputs": [
    {
     "data": {
      "text/plain": [
       "[{'solver': 'cholesky', 'alpha': 10, 'model': 'Ridge'},\n",
       " {'min_samples_split': 10,\n",
       "  'min_samples_leaf': 1,\n",
       "  'max_depth': 8,\n",
       "  'model': 'Decision Tree Regressor'},\n",
       " {'n_estimators': 100,\n",
       "  'min_samples_leaf': 1,\n",
       "  'max_depth': 12,\n",
       "  'ccp_alpha': 0.2,\n",
       "  'bootstrap': True,\n",
       "  'model': 'Random Forest Regressor'},\n",
       " {'n_neighbors': 10,\n",
       "  'leaf_size': 10,\n",
       "  'algorithm': 'kd_tree',\n",
       "  'model': 'KNeighbors Regressor'}]"
      ]
     },
     "execution_count": 34,
     "metadata": {},
     "output_type": "execute_result"
    }
   ],
   "source": [
    "gb = GradientBoostingRegressor(random_state=seed)\n",
    "ada = AdaBoostRegressor(random_state=seed)\n",
    "best_hyper_params"
   ]
  },
  {
   "cell_type": "code",
   "execution_count": 35,
   "metadata": {},
   "outputs": [],
   "source": [
    "boost_models = {\n",
    "    'Gradient Boosting Regressor': gb,\n",
    "    'Ada Boosting':ada}\n",
    "\n",
    "gb_params = {\n",
    "    'learning_rate':[0.01, 0.05, 0.1, 0.2],\n",
    "    'ccp_alpha':[0.01, 0.05, 0.1, 0.2, 0.5],\n",
    "    'max_depth':range(2,11),\n",
    "    'min_weight_fraction_leaf':[0.01, 0.05, 0.1, 0.2],\n",
    "    'n_estimators':range(10,210,10)}\n",
    "\n",
    "dt_base = DecisionTreeRegressor(random_state=seed, max_depth=3)\n",
    "dt_best = DecisionTreeRegressor(max_depth=8, min_samples_split=3, random_state=seed)\n",
    "\n",
    "ada_params = {\n",
    "    'estimator':[dt_base, dt_best],\n",
    "    'learning_rate':[0.01, 0.05, 0.1, 0.2, 0.5],\n",
    "    'n_estimators':range(10,110, 10)}\n",
    "\n",
    "boosting_param_list = [gb_params, ada_params]\n",
    "best_boost_dict = {}\n",
    "best_boost_hp = []\n",
    "\n",
    "\n",
    "for (key,val), parameters in zip(boost_models.items(), boosting_param_list):\n",
    "    best_model, model_best_hp = randomized_search(val, X_new_train_scaled, y_new_train, param_grid_=parameters, cv_=5, verbose_=0, n_jobs_=-1, n_iter_= 50)\n",
    "    best_boost_dict[key] = best_model\n",
    "    model_best_hp['model']=key\n",
    "    best_boost_hp.append(model_best_hp)"
   ]
  },
  {
   "cell_type": "code",
   "execution_count": 36,
   "metadata": {},
   "outputs": [],
   "source": [
    "all_models_dict = {}\n",
    "for key, value in best_boost_dict.items():\n",
    "    all_models_dict[key]=value\n",
    "for key, value in best_model_dict.items():\n",
    "    all_models_dict[key]=value"
   ]
  },
  {
   "cell_type": "code",
   "execution_count": 37,
   "metadata": {},
   "outputs": [
    {
     "name": "stdout",
     "output_type": "stream",
     "text": [
      "\u001B[1mGradient Boosting Regressor\u001B[0m cross-validation RMSE: \u001B[1m124652.41\u001B[0m\n",
      "\u001B[1mAda Boosting\u001B[0m cross-validation RMSE: \u001B[1m126521.20\u001B[0m\n",
      "\u001B[1mRidge\u001B[0m cross-validation RMSE: \u001B[1m178264.35\u001B[0m\n",
      "\u001B[1mDecision Tree Regressor\u001B[0m cross-validation RMSE: \u001B[1m136559.29\u001B[0m\n",
      "\u001B[1mRandom Forest Regressor\u001B[0m cross-validation RMSE: \u001B[1m122304.45\u001B[0m\n",
      "\u001B[1mKNeighbors Regressor\u001B[0m cross-validation RMSE: \u001B[1m134959.26\u001B[0m\n"
     ]
    }
   ],
   "source": [
    "all_models_rmse_10_folds = cross_val_rmse_score_printer(all_models_dict, n_folds=10, X_train=X_train_scaled, y_train=y_train)"
   ]
  },
  {
   "cell_type": "markdown",
   "metadata": {},
   "source": [
    "## Stacking Regressor"
   ]
  },
  {
   "cell_type": "code",
   "execution_count": 38,
   "metadata": {},
   "outputs": [],
   "source": [
    "level_0 = [('GBR', all_models_dict['Gradient Boosting Regressor']), ('ADA', all_models_dict['Ada Boosting']), ('RF', all_models_dict['Random Forest Regressor'])]\n",
    "level_1 = lreg\n",
    "stack_model = StackingRegressor(estimators=level_0, final_estimator=level_1, cv=10)\n"
   ]
  },
  {
   "cell_type": "code",
   "execution_count": 39,
   "metadata": {},
   "outputs": [
    {
     "data": {
      "text/plain": [
       "{'Gradient Boosting Regressor': GradientBoostingRegressor(ccp_alpha=0.1, learning_rate=0.2, max_depth=5,\n",
       "                           min_weight_fraction_leaf=0.01, n_estimators=110,\n",
       "                           random_state=4),\n",
       " 'Ada Boosting': AdaBoostRegressor(estimator=DecisionTreeRegressor(max_depth=8,\n",
       "                                                   min_samples_split=3,\n",
       "                                                   random_state=4),\n",
       "                   learning_rate=0.2, n_estimators=90, random_state=4),\n",
       " 'Ridge': Ridge(alpha=10, solver='cholesky'),\n",
       " 'Decision Tree Regressor': DecisionTreeRegressor(max_depth=8, min_samples_split=10, random_state=25),\n",
       " 'Random Forest Regressor': RandomForestRegressor(ccp_alpha=0.2, max_depth=12, random_state=25),\n",
       " 'KNeighbors Regressor': KNeighborsRegressor(algorithm='kd_tree', leaf_size=10, n_neighbors=10)}"
      ]
     },
     "execution_count": 39,
     "metadata": {},
     "output_type": "execute_result"
    }
   ],
   "source": [
    "all_models_dict"
   ]
  },
  {
   "cell_type": "code",
   "execution_count": 41,
   "metadata": {},
   "outputs": [
    {
     "name": "stdout",
     "output_type": "stream",
     "text": [
      "Stacking Regressor RMSE: \u001B[1m120411.37610419092\u001B[0m\n"
     ]
    }
   ],
   "source": [
    "stack_rmse = cross_val_rmse_(stack_model, X_train_scaled, y_train, 10, scoring_='neg_mean_squared_error')\n",
    "print(f\"Stacking Regressor RMSE: \\033[1m{stack_rmse}\\033[0m\")"
   ]
  },
  {
   "cell_type": "code",
   "execution_count": 46,
   "metadata": {},
   "outputs": [],
   "source": [
    "final_models = {\n",
    "    'Random Forest': all_models_dict['Random Forest Regressor'],\n",
    "    'Gradient Boost': all_models_dict['Gradient Boosting Regressor'],\n",
    "    'Stacking': stack_model\n",
    "}"
   ]
  },
  {
   "cell_type": "code",
   "execution_count": 47,
   "metadata": {},
   "outputs": [
    {
     "name": "stdout",
     "output_type": "stream",
     "text": [
      "\u001B[1mRandom Forest\u001B[0m RMSE on test data: \u001B[1m110301.36799278643\u001B[0m\n",
      "\u001B[1mGradient Boost\u001B[0m RMSE on test data: \u001B[1m118573.6170242369\u001B[0m\n",
      "\u001B[1mStacking\u001B[0m RMSE on test data: \u001B[1m110748.52064383807\u001B[0m\n",
      "--------------------------------------------------\n",
      "\u001B[1mRandom Forest\u001B[0m RMSE on train data: \u001B[1m70384.57559745459\u001B[0m\n",
      "\u001B[1mGradient Boost\u001B[0m RMSE on train data: \u001B[1m110475.70052253379\u001B[0m\n",
      "\u001B[1mStacking\u001B[0m RMSE on train data: \u001B[1m84481.65629426001\u001B[0m\n"
     ]
    }
   ],
   "source": [
    "rmses_test = {}\n",
    "rmses_train = {}\n",
    "y_predicts = {}\n",
    "y_train_predicts = {}\n",
    "for name, model in final_models.items():\n",
    "    model.fit(X_train_scaled, y_train)\n",
    "    y_pred = model.predict(X_test_scaled)\n",
    "    y_train_pred = model.predict(X_train_scaled)\n",
    "    rmse_y = mean_squared_error(y_test, y_pred, squared=False)\n",
    "    rmse_y_train = mean_squared_error(y_train, y_train_pred, squared=False)\n",
    "    rmses_test[name] = rmse_y\n",
    "    rmses_train[name] = rmse_y_train\n",
    "    y_predicts[name] = y_pred\n",
    "    y_train_predicts[name] = y_train_pred\n",
    "\n",
    "for key, value in rmses_test.items():\n",
    "    print(f\"\\033[1m{key}\\033[0m RMSE on test data: \\033[1m{value}\\033[0m\")\n",
    "print(f\"{'-'*50}\")\n",
    "for key, value in rmses_train.items():\n",
    "     print(f\"\\033[1m{key}\\033[0m RMSE on train data: \\033[1m{value}\\033[0m\")"
   ]
  },
  {
   "cell_type": "code",
   "execution_count": 48,
   "metadata": {},
   "outputs": [],
   "source": [
    "for key, value in y_predicts.items():\n",
    "    y_predicts[key]=value.tolist()\n",
    "df_predicts = pd.DataFrame(y_predicts)\n",
    "df_predicts['y_test'] = y_test\n",
    "df_predicts.columns = df_predicts.columns.str.lower().str.replace(\" \",\"_\")"
   ]
  },
  {
   "cell_type": "code",
   "execution_count": 49,
   "metadata": {},
   "outputs": [],
   "source": [
    "for key, value in y_train_predicts.items():\n",
    "    y_train_predicts[key]=value.tolist()"
   ]
  },
  {
   "cell_type": "code",
   "execution_count": 50,
   "metadata": {},
   "outputs": [],
   "source": [
    "df_train_predicts = pd.DataFrame(y_train_predicts)\n",
    "df_train_predicts['y_test'] = y_train\n",
    "df_train_predicts.columns = df_train_predicts.columns.str.lower().str.replace(\" \",\"_\")"
   ]
  },
  {
   "cell_type": "code",
   "execution_count": 51,
   "metadata": {},
   "outputs": [
    {
     "data": {
      "text/html": [
       "<div>\n",
       "<style scoped>\n",
       "    .dataframe tbody tr th:only-of-type {\n",
       "        vertical-align: middle;\n",
       "    }\n",
       "\n",
       "    .dataframe tbody tr th {\n",
       "        vertical-align: top;\n",
       "    }\n",
       "\n",
       "    .dataframe thead th {\n",
       "        text-align: right;\n",
       "    }\n",
       "</style>\n",
       "<table border=\"1\" class=\"dataframe\">\n",
       "  <thead>\n",
       "    <tr style=\"text-align: right;\">\n",
       "      <th></th>\n",
       "      <th>random_forest</th>\n",
       "      <th>gradient_boost</th>\n",
       "      <th>stacking</th>\n",
       "      <th>y_test</th>\n",
       "    </tr>\n",
       "  </thead>\n",
       "  <tbody>\n",
       "    <tr>\n",
       "      <th>0</th>\n",
       "      <td>634243.259602</td>\n",
       "      <td>680112.520462</td>\n",
       "      <td>656750.345041</td>\n",
       "      <td>598000.0</td>\n",
       "    </tr>\n",
       "    <tr>\n",
       "      <th>1</th>\n",
       "      <td>362413.282627</td>\n",
       "      <td>341318.533809</td>\n",
       "      <td>353344.205947</td>\n",
       "      <td>370000.0</td>\n",
       "    </tr>\n",
       "    <tr>\n",
       "      <th>2</th>\n",
       "      <td>309095.568952</td>\n",
       "      <td>295896.532229</td>\n",
       "      <td>302708.461986</td>\n",
       "      <td>290000.0</td>\n",
       "    </tr>\n",
       "    <tr>\n",
       "      <th>3</th>\n",
       "      <td>366221.625857</td>\n",
       "      <td>362823.214598</td>\n",
       "      <td>367940.809553</td>\n",
       "      <td>364000.0</td>\n",
       "    </tr>\n",
       "    <tr>\n",
       "      <th>4</th>\n",
       "      <td>358784.241380</td>\n",
       "      <td>448669.746525</td>\n",
       "      <td>397409.161823</td>\n",
       "      <td>370000.0</td>\n",
       "    </tr>\n",
       "  </tbody>\n",
       "</table>\n",
       "</div>"
      ],
      "text/plain": [
       "   random_forest  gradient_boost       stacking    y_test\n",
       "0  634243.259602   680112.520462  656750.345041  598000.0\n",
       "1  362413.282627   341318.533809  353344.205947  370000.0\n",
       "2  309095.568952   295896.532229  302708.461986  290000.0\n",
       "3  366221.625857   362823.214598  367940.809553  364000.0\n",
       "4  358784.241380   448669.746525  397409.161823  370000.0"
      ]
     },
     "execution_count": 51,
     "metadata": {},
     "output_type": "execute_result"
    }
   ],
   "source": [
    "df_train_predicts.head()"
   ]
  },
  {
   "cell_type": "code",
   "execution_count": 52,
   "metadata": {},
   "outputs": [],
   "source": [
    "for col in df_predicts.columns:\n",
    "    df_predicts[col] = np.round(df_predicts[col], 2)\n",
    "    df_train_predicts[col] = np.round(df_train_predicts[col], 2)"
   ]
  },
  {
   "cell_type": "code",
   "execution_count": 53,
   "metadata": {},
   "outputs": [],
   "source": [
    "cols = [col for col in df_predicts.columns if col!='y_test']\n",
    "for col in cols:\n",
    "    col_err = col+'_error'\n",
    "    col_rmse = col+'_rmse'\n",
    "    df_predicts[col_err] = np.abs(df_predicts[col] - df_predicts['y_test'])\n",
    "    df_train_predicts[col_err] = np.abs(df_train_predicts[col] - df_train_predicts['y_test'])"
   ]
  },
  {
   "cell_type": "code",
   "execution_count": 54,
   "metadata": {},
   "outputs": [
    {
     "data": {
      "text/html": [
       "<div>\n",
       "<style scoped>\n",
       "    .dataframe tbody tr th:only-of-type {\n",
       "        vertical-align: middle;\n",
       "    }\n",
       "\n",
       "    .dataframe tbody tr th {\n",
       "        vertical-align: top;\n",
       "    }\n",
       "\n",
       "    .dataframe thead th {\n",
       "        text-align: right;\n",
       "    }\n",
       "</style>\n",
       "<table border=\"1\" class=\"dataframe\">\n",
       "  <thead>\n",
       "    <tr style=\"text-align: right;\">\n",
       "      <th></th>\n",
       "      <th>random_forest</th>\n",
       "      <th>gradient_boost</th>\n",
       "      <th>stacking</th>\n",
       "      <th>y_test</th>\n",
       "      <th>random_forest_error</th>\n",
       "      <th>gradient_boost_error</th>\n",
       "      <th>stacking_error</th>\n",
       "    </tr>\n",
       "  </thead>\n",
       "  <tbody>\n",
       "    <tr>\n",
       "      <th>0</th>\n",
       "      <td>130253.51</td>\n",
       "      <td>116836.81</td>\n",
       "      <td>124353.60</td>\n",
       "      <td>143000.0</td>\n",
       "      <td>12746.49</td>\n",
       "      <td>26163.19</td>\n",
       "      <td>18646.40</td>\n",
       "    </tr>\n",
       "    <tr>\n",
       "      <th>1</th>\n",
       "      <td>560159.36</td>\n",
       "      <td>645056.92</td>\n",
       "      <td>592383.80</td>\n",
       "      <td>715000.0</td>\n",
       "      <td>154840.64</td>\n",
       "      <td>69943.08</td>\n",
       "      <td>122616.20</td>\n",
       "    </tr>\n",
       "    <tr>\n",
       "      <th>2</th>\n",
       "      <td>437965.01</td>\n",
       "      <td>482185.27</td>\n",
       "      <td>454051.58</td>\n",
       "      <td>661500.0</td>\n",
       "      <td>223534.99</td>\n",
       "      <td>179314.73</td>\n",
       "      <td>207448.42</td>\n",
       "    </tr>\n",
       "    <tr>\n",
       "      <th>3</th>\n",
       "      <td>218652.19</td>\n",
       "      <td>205216.67</td>\n",
       "      <td>211897.79</td>\n",
       "      <td>194250.0</td>\n",
       "      <td>24402.19</td>\n",
       "      <td>10966.67</td>\n",
       "      <td>17647.79</td>\n",
       "    </tr>\n",
       "    <tr>\n",
       "      <th>4</th>\n",
       "      <td>806680.17</td>\n",
       "      <td>848556.49</td>\n",
       "      <td>825523.55</td>\n",
       "      <td>920000.0</td>\n",
       "      <td>113319.83</td>\n",
       "      <td>71443.51</td>\n",
       "      <td>94476.45</td>\n",
       "    </tr>\n",
       "  </tbody>\n",
       "</table>\n",
       "</div>"
      ],
      "text/plain": [
       "   random_forest  gradient_boost   stacking    y_test  random_forest_error   \n",
       "0      130253.51       116836.81  124353.60  143000.0             12746.49  \\\n",
       "1      560159.36       645056.92  592383.80  715000.0            154840.64   \n",
       "2      437965.01       482185.27  454051.58  661500.0            223534.99   \n",
       "3      218652.19       205216.67  211897.79  194250.0             24402.19   \n",
       "4      806680.17       848556.49  825523.55  920000.0            113319.83   \n",
       "\n",
       "   gradient_boost_error  stacking_error  \n",
       "0              26163.19        18646.40  \n",
       "1              69943.08       122616.20  \n",
       "2             179314.73       207448.42  \n",
       "3              10966.67        17647.79  \n",
       "4              71443.51        94476.45  "
      ]
     },
     "execution_count": 54,
     "metadata": {},
     "output_type": "execute_result"
    }
   ],
   "source": [
    "df_predicts.head()"
   ]
  },
  {
   "cell_type": "code",
   "execution_count": 55,
   "metadata": {},
   "outputs": [],
   "source": [
    "df_pred_sorted = df_predicts.sort_values(\"y_test\").reset_index(drop=True)\n",
    "df_pred_sorted_first_100 = df_pred_sorted.loc[:100,]"
   ]
  },
  {
   "cell_type": "code",
   "execution_count": 62,
   "metadata": {},
   "outputs": [
    {
     "data": {
      "image/png": "[encoded data removed]",
      "text/plain": [
       "<Figure size 1600x900 with 1 Axes>"
      ]
     },
     "metadata": {},
     "output_type": "display_data"
    }
   ],
   "source": [
    "plt.subplots(figsize=(16,9))\n",
    "plt.scatter(df_pred_sorted_first_100.index, df_pred_sorted_first_100.random_forest_error, label='Random Forest error',\n",
    "         color='red', alpha = 0.5)\n",
    "plt.scatter(df_pred_sorted_first_100.index, df_pred_sorted_first_100.stacking_error, label='Stacking error',\n",
    "         color='navy', marker = 'x', alpha=0.5)\n",
    "plt.legend()\n",
    "plt.show()\n"
   ]
  },
  {
   "cell_type": "code",
   "execution_count": 61,
   "metadata": {},
   "outputs": [
    {
     "data": {
      "image/png": "[encoded data removed]",
      "text/plain": [
       "<Figure size 1600x900 with 1 Axes>"
      ]
     },
     "metadata": {},
     "output_type": "display_data"
    }
   ],
   "source": [
    "plt.subplots(figsize=(16,9))\n",
    "plt.plot(df_pred_sorted.index, df_pred_sorted.y_test, color='red', label='True value', linewidth=3)\n",
    "plt.scatter(df_pred_sorted.index, df_pred_sorted.stacking, color = 'navy', marker='x', alpha=0.5, label='Test Predictions', linewidth=2)\n",
    "plt.legend()\n",
    "plt.show()\n"
   ]
  },
  {
   "cell_type": "code",
   "execution_count": null,
   "metadata": {},
   "outputs": [],
   "source": []
  }
 ],
 "metadata": {
  "kernelspec": {
   "display_name": "Python 3 (ipykernel)",
   "language": "python",
   "name": "python3"
  },
  "language_info": {
   "codemirror_mode": {
    "name": "ipython",
    "version": 3
   },
   "file_extension": ".py",
   "mimetype": "text/x-python",
   "name": "python",
   "nbconvert_exporter": "python",
   "pygments_lexer": "ipython3",
   "version": "3.11.2"
  }
 },
 "nbformat": 4,
 "nbformat_minor": 1
}
