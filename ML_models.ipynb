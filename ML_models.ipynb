{
 "cells": [
  {
   "cell_type": "code",
   "execution_count": 9,
   "metadata": {
    "pycharm": {
     "is_executing": true
    }
   },
   "outputs": [],
   "source": [
    "import matplotlib.pyplot as plt\n",
    "import pandas as pd\n",
    "import numpy as np\n",
    "from sklearn.tree import DecisionTreeRegressor\n",
    "from sklearn.neighbors import KNeighborsRegressor\n",
    "from sklearn.ensemble import RandomForestRegressor, AdaBoostRegressor, GradientBoostingRegressor, StackingRegressor\n",
    "from sklearn.metrics import mean_squared_error\n",
    "from sklearn.model_selection import cross_val_score, train_test_split, RandomizedSearchCV\n",
    "from sklearn.linear_model import LinearRegression, Ridge\n",
    "from sklearn.preprocessing import StandardScaler"
   ]
  },
  {
   "cell_type": "markdown",
   "metadata": {},
   "source": [
    "# Functions"
   ]
  },
  {
   "cell_type": "markdown",
   "metadata": {},
   "source": [
    "**EN**  \n",
    "The functions defined below are used extensively in the Machine Learning part of the project. They are mainly performing n-fold cross-validation to assess how well the model generalizes the information and to avoid overfitting and underfitting.  Docstrings are provided for each function.  \n",
    "**FR**  \n",
    "Les fonctions définies ci-dessous sont largement utilisées dans la partie du projet consacrée à l'apprentissage automatique. Elles effectuent principalement une validation croisée n-fold pour évaluer dans quelle mesure le modèle généralise l'information et pour éviter l'overfitting et l'underfitting.  Une documentation est fournie pour chaque fonction."
   ]
  },
  {
   "cell_type": "code",
   "execution_count": 10,
   "metadata": {},
   "outputs": [],
   "source": [
    "def filter_outliers(data):\n",
    "    \"\"\"\n",
    "    Filter outliers from a dataset based on the interquartile range method.\n",
    "\n",
    "    Args:\n",
    "    data (pandas.DataFrame): A dataframe with a column named 'prix' representing the numerical values to be filtered.\n",
    "\n",
    "    Returns:\n",
    "    pandas.DataFrame: A filtered dataframe with rows that have values within 1.5 times the interquartile range (IQR) \n",
    "    of the median of 'prix'.\n",
    "    \"\"\"\n",
    "    q1_prix, q2_prix, q3_prix, q4_prix = data.prix.quantile([0.25, 0.5, 0.75, 1])\n",
    "    iqr_prix = q3_prix - q1_prix\n",
    "    lower_prix = q1_prix - 1.5*iqr_prix\n",
    "    upper_prix = q3_prix + 1.5*iqr_prix\n",
    "    data_filtered = data.query('prix>=@lower_prix and prix<=@upper_prix')\n",
    "    return data_filtered\n",
    "\n",
    "def randomized_search(estimator_, X_train_, y_train_, param_grid_, cv_, verbose_, \n",
    "                      n_jobs_, n_iter_, scoring_='neg_mean_squared_error', \n",
    "                      random_state=1, error_score='raise'):\n",
    "    \"\"\"\n",
    "    Perform a randomized search over hyperparameters for a given estimator using cross-validation.\n",
    "\n",
    "    Args:\n",
    "    estimator_ (estimator object): An estimator object to optimize its hyperparameters.\n",
    "    X_train_ (array-like or sparse matrix): Training data to fit the estimator.\n",
    "    y_train_ (array-like): Target values corresponding to X_train_.\n",
    "    param_grid_ (dict): Dictionary with hyperparameters to optimize and their possible values.\n",
    "    cv_ (int, cross-validation generator, or an iterable): Determines the cross-validation splitting strategy.\n",
    "    verbose_ (int): Controls the verbosity of the search.\n",
    "    n_jobs_ (int): Number of jobs to run in parallel.\n",
    "    n_iter_ (int): Number of parameter settings that are sampled.\n",
    "    scoring_ (str): Scoring metric to use for evaluating the best hyperparameters. Default is 'neg_mean_squared_error'.\n",
    "    random_state (int): Random state for reproducibility.\n",
    "    error_score (str or numeric): Value to assign to the score if an error occurs while fitting the estimator.\n",
    "\n",
    "    Returns:\n",
    "    tuple: The best estimator and its corresponding hyperparameters found by the search.\n",
    "\n",
    "    \"\"\"\n",
    "    estimator_grid = RandomizedSearchCV(estimator=estimator_, param_distributions=param_grid_,\n",
    "                       cv=cv_, scoring=scoring_, error_score='raise',\n",
    "                       verbose=verbose_, n_jobs=n_jobs_, n_iter=n_iter_, random_state=seed)\n",
    "    estimator_grid.fit(X_train_, y_train_)\n",
    "    return estimator_grid.best_estimator_, estimator_grid.best_params_\n",
    "\n",
    "def cross_val_rmse_(model_, X_train_, y_train_, cv_, scoring_='neg_mean_squared_error'):\n",
    "    \"\"\"\n",
    "    Calculate the root mean squared error (RMSE) of a model using cross-validation.\n",
    "\n",
    "    Args:\n",
    "    model_ (estimator object): An estimator object to evaluate its performance.\n",
    "    X_train_ (array-like or sparse matrix): Training data to fit the estimator.\n",
    "    y_train_ (array-like): Target values corresponding to X_train_.\n",
    "    cv_ (int, cross-validation generator, or an iterable): Determines the cross-validation splitting strategy.\n",
    "    scoring_ (str): Scoring metric to use for evaluating the estimator. Default is 'neg_mean_squared_error'.\n",
    "\n",
    "    Returns:\n",
    "    float: The RMSE score of the model using cross-validation.\n",
    "\n",
    "\"\"\"\n",
    "    model_cv_scores = cross_val_score(model_, X_train_, y_train_, cv=cv_, scoring=scoring_)\n",
    "    model_rmse = np.sqrt(-model_cv_scores.mean())\n",
    "    return model_rmse\n",
    "\n",
    "def cross_val_rmse_score_printer(models, n_folds, X_train, y_train):\n",
    "    \"\"\"\n",
    "    Calculate and print the cross-validation RMSE scores of a dictionary of models.\n",
    "\n",
    "    Args:\n",
    "    models (dict): A dictionary where the keys are strings representing the name of each model and the values are estimator objects to evaluate their performance.\n",
    "    n_folds (int): Number of folds to use in cross-validation.\n",
    "    X_train (array-like or sparse matrix): Training data to fit the estimator.\n",
    "    y_train (array-like): Target values corresponding to X_train.\n",
    "\n",
    "    Returns:\n",
    "    dict: A dictionary with the cross-validation RMSE scores of each model.\n",
    "\n",
    "    \"\"\"\n",
    "    models_rmses = {}\n",
    "    for name, model in models.items():\n",
    "        model.fit(X_train, y_train)\n",
    "        model_rmse = cross_val_rmse_(model, X_train, y_train, cv_=n_folds)\n",
    "        models_rmses[name] = model_rmse\n",
    "    for key, value in models_rmses.items():\n",
    "        print(f\"\\033[1m{key}\\033[0m cross-validation RMSE: \\033[1m{value:.2f}\\033[0m\")\n",
    "    return models_rmses"
   ]
  },
  {
   "cell_type": "markdown",
   "metadata": {},
   "source": [
    "# Load the data"
   ]
  },
  {
   "cell_type": "code",
   "execution_count": 11,
   "metadata": {},
   "outputs": [],
   "source": [
    "data = pd.read_csv(\"real_estate_PML.csv\")\n",
    "data.head()\n",
    "keys = ['Très Petit', 'Petit', 'Moyen', 'Grand', 'Très Grand' ]\n",
    "values = [1,2,3,4,5]\n",
    "mapped_dict = dict(zip(keys, values))"
   ]
  },
  {
   "cell_type": "markdown",
   "metadata": {},
   "source": [
    "# Outliers removal"
   ]
  },
  {
   "cell_type": "markdown",
   "metadata": {},
   "source": [
    "**EN**  \n",
    "While certain models like Random Forest and decision-based trees perform reasonably well without scaling or preprocessing the data, here we'll be using a mix of models. Therefore we removed outliers before proceeding with the model. An important step was to treat outliers separately: An outlier in Marseille will not be an outlier in Paris, considering the price difference for the real estate market in these 3 different cities.  \n",
    "**FR**  \n",
    "Alors que certains modèles comme Random Forest et les arbres décisionnels fonctionnent raisonnablement bien sans mise à l'échelle ni prétraitement des données, nous utiliserons ici un mélange de modèles. C'est pourquoi nous avons supprimé les valeurs aberrantes avant de procéder à l'élaboration du modèle. Une étape importante a consisté à traiter les valeurs aberrantes séparément : Une valeur aberrante à Marseille ne sera pas une valeur aberrante à Paris, compte tenu de la différence de prix sur le marché immobilier dans ces trois villes différentes. \n"
   ]
  },
  {
   "cell_type": "code",
   "execution_count": 12,
   "metadata": {},
   "outputs": [
    {
     "data": {
      "text/plain": [
       "((2921, 8), (2176, 8), (876, 8))"
      ]
     },
     "execution_count": 12,
     "metadata": {},
     "output_type": "execute_result"
    }
   ],
   "source": [
    "paris, lyon, mrs = data.loc[data['ville']=='Paris',].copy(), data.loc[data['ville']=='Lyon',].copy(), data.loc[data['ville']=='Marseille',].copy()\n",
    "paris.shape, lyon.shape, mrs.shape"
   ]
  },
  {
   "cell_type": "code",
   "execution_count": 13,
   "metadata": {},
   "outputs": [],
   "source": [
    "paris_filtered = filter_outliers(paris)\n",
    "lyon_filtered = filter_outliers(lyon)\n",
    "mrs_filtered = filter_outliers(mrs)\n"
   ]
  },
  {
   "cell_type": "code",
   "execution_count": 14,
   "metadata": {},
   "outputs": [
    {
     "data": {
      "text/plain": [
       "((2691, 8), (2053, 8), (798, 8))"
      ]
     },
     "execution_count": 14,
     "metadata": {},
     "output_type": "execute_result"
    }
   ],
   "source": [
    "paris_filtered.shape, lyon_filtered.shape, mrs_filtered.shape"
   ]
  },
  {
   "cell_type": "code",
   "execution_count": 15,
   "metadata": {},
   "outputs": [
    {
     "data": {
      "text/plain": [
       "((5973, 8), (5542, 8))"
      ]
     },
     "execution_count": 15,
     "metadata": {},
     "output_type": "execute_result"
    }
   ],
   "source": [
    "df = pd.concat([paris_filtered, lyon_filtered, mrs_filtered], axis=0, ignore_index=True)\n",
    "data.shape, df.shape"
   ]
  },
  {
   "cell_type": "markdown",
   "metadata": {},
   "source": [
    "# Dummies\n",
    "**EN**  \n",
    "We need to encode our categorical variables. We will use `pd.get_dummies()` function.  \n",
    "**FR**  \n",
    "Pour utiliser les données qu'on a dans un modèle de Machine Learning, il faut d'abord encoder les variables catégorielles, car les modèles ne comprennent pas les variables catégorielles."
   ]
  },
  {
   "cell_type": "code",
   "execution_count": 16,
   "metadata": {},
   "outputs": [],
   "source": [
    "dummy = pd.get_dummies(df['ville'], dtype=float)\n",
    "df = pd.concat([dummy, df], axis=1).drop(['type_l', 'prix_m2', 'ville'], axis=1)"
   ]
  },
  {
   "cell_type": "markdown",
   "metadata": {},
   "source": [
    "# Data split and scaling"
   ]
  },
  {
   "cell_type": "markdown",
   "metadata": {},
   "source": [
    "**EN**  \n",
    "We will be using the prebuilt function from the sklearn library: train_test_split to split our data into a training set, where we train and evaluate the model performance and then perform the final predictions and evaluations on the test data. A random seed will be chosen for reproducibility.   \n",
    "**FR**  \n",
    "Nous utiliserons la fonction préconstruite de la bibliothèque sklearn : train_test_split pour diviser nos données en un ensemble d'entraînement, où nous entraînons et évaluons les performances du modèle, puis effectuons les prédictions et évaluations finales sur les données de test. Une *seed* aléatoire sera choisie pour la reproductibilité. "
   ]
  },
  {
   "cell_type": "code",
   "execution_count": 17,
   "metadata": {},
   "outputs": [],
   "source": [
    "features = [col for col in df.columns if col != 'prix']\n",
    "seed = 4\n",
    "X_train, X_test, y_train, y_test = train_test_split(df[features].values, df.prix.values, test_size=0.1, random_state=seed)"
   ]
  },
  {
   "cell_type": "code",
   "execution_count": 18,
   "metadata": {},
   "outputs": [],
   "source": [
    "scaler = StandardScaler()\n",
    "X_train_scaled = scaler.fit_transform(X_train)\n",
    "X_test_scaled = scaler.transform(X_test)"
   ]
  },
  {
   "cell_type": "markdown",
   "metadata": {},
   "source": [
    "# Establish base models"
   ]
  },
  {
   "cell_type": "markdown",
   "metadata": {},
   "source": [
    "**EN**  \n",
    "We established the base models, with default hyperparameters to perform a first benchmark. Here a 10-fold cross-validation was used to assess model performance.  \n",
    "**FR**  \n",
    "Nous avons établi les modèles de base, avec des hyperparamètres par défaut, pour réaliser un premier benchmark. Ici, une validation croisée 10-fold a été utilisée pour évaluer la performance du modèle."
   ]
  },
  {
   "cell_type": "code",
   "execution_count": 19,
   "metadata": {},
   "outputs": [],
   "source": [
    "lreg = LinearRegression()\n",
    "ridge = Ridge(alpha=0.5)\n",
    "dt = DecisionTreeRegressor(random_state=seed)\n",
    "rf = RandomForestRegressor(random_state=seed)\n",
    "knr = KNeighborsRegressor()"
   ]
  },
  {
   "cell_type": "code",
   "execution_count": 20,
   "metadata": {},
   "outputs": [
    {
     "name": "stdout",
     "output_type": "stream",
     "text": [
      "\u001B[1mLinear Regresion\u001B[0m cross-validation RMSE: \u001B[1m178268.32\u001B[0m\n",
      "\u001B[1mRidge\u001B[0m cross-validation RMSE: \u001B[1m178268.01\u001B[0m\n",
      "\u001B[1mDecision Tree Regressor\u001B[0m cross-validation RMSE: \u001B[1m154060.78\u001B[0m\n",
      "\u001B[1mRandom Forest Regressor\u001B[0m cross-validation RMSE: \u001B[1m124380.12\u001B[0m\n",
      "\u001B[1mKNeighbors Regressor\u001B[0m cross-validation RMSE: \u001B[1m187944.40\u001B[0m\n"
     ]
    }
   ],
   "source": [
    "# RMSE on non-scaled features\n",
    "models = {'Linear Regresion': LinearRegression(),\n",
    "          'Ridge': Ridge(alpha=0.5),\n",
    "          'Decision Tree Regressor': DecisionTreeRegressor(random_state=seed),\n",
    "          'Random Forest Regressor': RandomForestRegressor(random_state=seed),\n",
    "          'KNeighbors Regressor': KNeighborsRegressor()}\n",
    "non_scaled_10cv_rmse = cross_val_rmse_score_printer(models, n_folds=10, X_train=X_train, y_train=y_train)"
   ]
  },
  {
   "cell_type": "markdown",
   "metadata": {},
   "source": [
    "**EN**  \n",
    "Same models, but with scaled features.  \n",
    "**FR**  \n",
    "Les mêmes modèles mais avec des features normalisés."
   ]
  },
  {
   "cell_type": "code",
   "execution_count": 21,
   "metadata": {},
   "outputs": [
    {
     "name": "stdout",
     "output_type": "stream",
     "text": [
      "\u001B[1mLinear Regresion\u001B[0m cross-validation RMSE: \u001B[1m178265.61\u001B[0m\n",
      "\u001B[1mRidge\u001B[0m cross-validation RMSE: \u001B[1m178267.91\u001B[0m\n",
      "\u001B[1mDecision Tree Regressor\u001B[0m cross-validation RMSE: \u001B[1m153586.20\u001B[0m\n",
      "\u001B[1mRandom Forest Regressor\u001B[0m cross-validation RMSE: \u001B[1m124240.98\u001B[0m\n",
      "\u001B[1mKNeighbors Regressor\u001B[0m cross-validation RMSE: \u001B[1m134269.60\u001B[0m\n"
     ]
    }
   ],
   "source": [
    "# RMSE on scaled features\n",
    "scaled_10cv_rmse = cross_val_rmse_score_printer(models, n_folds=10, X_train=X_train_scaled, y_train=y_train)"
   ]
  },
  {
   "cell_type": "markdown",
   "metadata": {},
   "source": [
    "**EN**  \n",
    "The only model that benefits a lot from scaling is the K Nearest Neighbors model. It is quite obvious, as the model uses by default distances to train and assign the weights. When the features are not scaled, the model performs well, as there is a big difference in the scale of distances. (Prices are in the Millions or Euros, while the number of bedrooms - 0 to 15). Feature scaling is usually important in other models too, like Linear Regression, Neural Networks with certain activation functions, but in this case our models performed reasonably well without scaling.  \n",
    "**FR**  \n",
    "Le seul modèle qui bénéficie d'une mise à l'échelle est le modèle des plus proches voisins (K Nearest Neighbors). C'est assez évident, car le modèle utilise par défaut les distances pour l'apprentissage et l'attribution des poids. Lorsque les caractéristiques ne sont pas mises à l'échelle, le modèle donne de bons résultats, car il existe une grande différence dans l'échelle des distances. (Les prix sont exprimés en millions ou en euros, tandis que le nombre de chambres est compris entre 0 et 15). La mise à l'échelle des caractéristiques est généralement importante dans d'autres modèles, comme la régression linéaire, les réseaux neuronaux avec certaines fonctions d'activation, mais dans ce cas, nos modèles fonctionnent raisonnablement bien sans mise à l'échelle."
   ]
  },
  {
   "cell_type": "markdown",
   "metadata": {},
   "source": [
    "# Add new feature"
   ]
  },
  {
   "cell_type": "markdown",
   "metadata": {},
   "source": [
    "**EN**  \n",
    "We'll add a new feature and see if our model RMSE improves. If it doesn't than we may need to leave the features as they are, to avoid overfitting.  \n",
    "**FR**  \n",
    "Nous allons ajouter une nouvelle fonctionnalité et voir si le RMSE de notre modèle s'améliore. Si ce n'est pas le cas, nous devrons peut-être laisser les caractéristiques telles quelles, afin d'éviter un surajustement."
   ]
  },
  {
   "cell_type": "code",
   "execution_count": 23,
   "metadata": {},
   "outputs": [
    {
     "data": {
      "text/html": [
       "<div>\n",
       "<style scoped>\n",
       "    .dataframe tbody tr th:only-of-type {\n",
       "        vertical-align: middle;\n",
       "    }\n",
       "\n",
       "    .dataframe tbody tr th {\n",
       "        vertical-align: top;\n",
       "    }\n",
       "\n",
       "    .dataframe thead th {\n",
       "        text-align: right;\n",
       "    }\n",
       "</style>\n",
       "<table border=\"1\" class=\"dataframe\">\n",
       "  <thead>\n",
       "    <tr style=\"text-align: right;\">\n",
       "      <th></th>\n",
       "      <th>Lyon</th>\n",
       "      <th>Marseille</th>\n",
       "      <th>Paris</th>\n",
       "      <th>arr</th>\n",
       "      <th>n_pieces</th>\n",
       "      <th>n_chambres</th>\n",
       "      <th>surface_m2</th>\n",
       "      <th>prix</th>\n",
       "      <th>largeur</th>\n",
       "    </tr>\n",
       "  </thead>\n",
       "  <tbody>\n",
       "    <tr>\n",
       "      <th>0</th>\n",
       "      <td>0.0</td>\n",
       "      <td>0.0</td>\n",
       "      <td>1.0</td>\n",
       "      <td>17</td>\n",
       "      <td>3.0</td>\n",
       "      <td>1.0</td>\n",
       "      <td>51.84</td>\n",
       "      <td>535000.0</td>\n",
       "      <td>3</td>\n",
       "    </tr>\n",
       "    <tr>\n",
       "      <th>1</th>\n",
       "      <td>0.0</td>\n",
       "      <td>0.0</td>\n",
       "      <td>1.0</td>\n",
       "      <td>15</td>\n",
       "      <td>3.0</td>\n",
       "      <td>2.0</td>\n",
       "      <td>40.77</td>\n",
       "      <td>470000.0</td>\n",
       "      <td>3</td>\n",
       "    </tr>\n",
       "    <tr>\n",
       "      <th>2</th>\n",
       "      <td>0.0</td>\n",
       "      <td>0.0</td>\n",
       "      <td>1.0</td>\n",
       "      <td>13</td>\n",
       "      <td>2.0</td>\n",
       "      <td>1.0</td>\n",
       "      <td>39.00</td>\n",
       "      <td>385000.0</td>\n",
       "      <td>2</td>\n",
       "    </tr>\n",
       "    <tr>\n",
       "      <th>3</th>\n",
       "      <td>0.0</td>\n",
       "      <td>0.0</td>\n",
       "      <td>1.0</td>\n",
       "      <td>13</td>\n",
       "      <td>2.0</td>\n",
       "      <td>1.0</td>\n",
       "      <td>36.03</td>\n",
       "      <td>383000.0</td>\n",
       "      <td>2</td>\n",
       "    </tr>\n",
       "    <tr>\n",
       "      <th>4</th>\n",
       "      <td>0.0</td>\n",
       "      <td>0.0</td>\n",
       "      <td>1.0</td>\n",
       "      <td>10</td>\n",
       "      <td>2.0</td>\n",
       "      <td>1.0</td>\n",
       "      <td>40.70</td>\n",
       "      <td>399000.0</td>\n",
       "      <td>3</td>\n",
       "    </tr>\n",
       "  </tbody>\n",
       "</table>\n",
       "</div>"
      ],
      "text/plain": [
       "   Lyon  Marseille  Paris  arr  n_pieces  n_chambres  surface_m2      prix   \n",
       "0   0.0        0.0    1.0   17       3.0         1.0       51.84  535000.0  \\\n",
       "1   0.0        0.0    1.0   15       3.0         2.0       40.77  470000.0   \n",
       "2   0.0        0.0    1.0   13       2.0         1.0       39.00  385000.0   \n",
       "3   0.0        0.0    1.0   13       2.0         1.0       36.03  383000.0   \n",
       "4   0.0        0.0    1.0   10       2.0         1.0       40.70  399000.0   \n",
       "\n",
       "  largeur  \n",
       "0       3  \n",
       "1       3  \n",
       "2       2  \n",
       "3       2  \n",
       "4       3  "
      ]
     },
     "execution_count": 23,
     "metadata": {},
     "output_type": "execute_result"
    }
   ],
   "source": [
    "containers = [0,20,40,80,160,df['surface_m2'].max()]\n",
    "df['largeur'] = pd.cut(df['surface_m2'], containers, labels = keys)\n",
    "df['largeur']=df['largeur'].map(mapped_dict)\n",
    "df.head()"
   ]
  },
  {
   "cell_type": "code",
   "execution_count": 24,
   "metadata": {},
   "outputs": [],
   "source": [
    "new_features = [col for col in df.columns if col!='prix']\n",
    "X_new = df[new_features].values\n",
    "X_new_train, X_new_test, y_new_train, y_new_test = train_test_split(X_new, df.prix.values, test_size=0.1, random_state=seed)\n",
    "X_new_train_scaled = scaler.fit_transform(X_new_train)\n",
    "X_new_test_scaled = scaler.transform(X_new_test)"
   ]
  },
  {
   "cell_type": "code",
   "execution_count": 25,
   "metadata": {},
   "outputs": [
    {
     "name": "stdout",
     "output_type": "stream",
     "text": [
      "\u001B[1mLinear Regresion\u001B[0m cross-validation RMSE: \u001B[1m175814.33\u001B[0m\n",
      "\u001B[1mRidge\u001B[0m cross-validation RMSE: \u001B[1m175813.67\u001B[0m\n",
      "\u001B[1mDecision Tree Regressor\u001B[0m cross-validation RMSE: \u001B[1m153540.37\u001B[0m\n",
      "\u001B[1mRandom Forest Regressor\u001B[0m cross-validation RMSE: \u001B[1m124220.22\u001B[0m\n",
      "\u001B[1mKNeighbors Regressor\u001B[0m cross-validation RMSE: \u001B[1m135292.66\u001B[0m\n"
     ]
    }
   ],
   "source": [
    "scaled_10cv_rmse_new_features = cross_val_rmse_score_printer(models, n_folds=10, X_train=X_new_train_scaled, y_train=y_new_train)"
   ]
  },
  {
   "cell_type": "markdown",
   "metadata": {},
   "source": [
    "## Comment on results\n",
    "**EN**  \n",
    "The RMSE worsened, indicating that the new feature should not be used and actually contributes negatively to our model.   \n",
    "**FR**  \n",
    "Le RMSE s'est aggravé, ce qui indique que la nouvelle caractéristique ne devrait pas être utilisée et qu'elle contribue en fait négativement à notre modèle. \n"
   ]
  },
  {
   "cell_type": "markdown",
   "metadata": {},
   "source": [
    "# Hyper parameter Tuning\n",
    "**EN**  \n",
    "Hyperparameters are configuration variables that control the behavior and performance of machine learning models. It is an important step in establishing a good model as some models, especially tree-based models don't have the most optimal hyperparameters.   \n",
    "**FR**  \n",
    "Les hyperparamètres sont des variables de configuration qui contrôlent le comportement et les performances des modèles d'apprentissage automatique. Il s'agit d'une étape importante dans l'établissement d'un bon modèle, car certains modèles, en particulier les modèles à base d'arbres, n'ont pas les hyperparamètres les plus adaptés. "
   ]
  },
  {
   "cell_type": "code",
   "execution_count": 26,
   "metadata": {},
   "outputs": [],
   "source": [
    "ridge_param = {\n",
    "    'alpha':[1e-6, 1e-5, 1e-4, 1e-3, 1e-2, 0.1, 1, 5, 10, 50],\n",
    "    'solver':['svd', 'cholesky', 'saga']}\n",
    "\n",
    "dt_params = {\n",
    "    'max_depth':range(1,20),\n",
    "    'min_samples_leaf':[0.1, 0.2, 0.3, 0.5, 0.8, 1],\n",
    "    'min_samples_split':[2, 3, 5, 10]}\n",
    "\n",
    "rf_params = {\n",
    "    'bootstrap':[True, False],\n",
    "    'ccp_alpha':[0.2, 0.4, 0.6, 0.8, 1],\n",
    "    'max_depth':[1, 2, 4, 6, 8, 10, 12, 14, 15],\n",
    "    'min_samples_leaf':[0.2, 0.4, 0.6, 0.8, 1],\n",
    "    'n_estimators':[20, 50, 100, 250, 500]}\n",
    "\n",
    "knr_params = {\n",
    "    'algorithm':['ball_tree', 'kd_tree'],\n",
    "    'leaf_size':[10,20,30],\n",
    "    'n_neighbors':[1,3,5,10,15]}\n",
    "params_list = [ridge_param, dt_params, rf_params, knr_params]"
   ]
  },
  {
   "cell_type": "markdown",
   "metadata": {},
   "source": [
    "**EN**  \n",
    "First we establish a grid of parameters to search for, then we use a Randomized Search to look for the best hyperparameters. Ideally we would use Grid Search CV, but the computation time gets exponentially bigger with more hyperparameters to explore.  \n",
    "**FR**  \n",
    "Tout d'abord, nous établissons une grille de paramètres à rechercher, puis nous utilisons une recherche aléatoire pour trouver les meilleurs hyperparamètres. L'idéal serait d'utiliser le CV de recherche en grille, mais le temps de calcul augmente de façon exponentielle avec le nombre d'hyperparamètres à explorer."
   ]
  },
  {
   "cell_type": "code",
   "execution_count": 27,
   "metadata": {},
   "outputs": [
    {
     "name": "stderr",
     "output_type": "stream",
     "text": [
      "C:\\NKT\\lib\\site-packages\\sklearn\\model_selection\\_search.py:305: UserWarning: The total space of parameters 30 is smaller than n_iter=150. Running 30 iterations. For exhaustive searches, use GridSearchCV.\n",
      "  warnings.warn(\n",
      "C:\\NKT\\lib\\site-packages\\sklearn\\model_selection\\_search.py:305: UserWarning: The total space of parameters 30 is smaller than n_iter=150. Running 30 iterations. For exhaustive searches, use GridSearchCV.\n",
      "  warnings.warn(\n"
     ]
    }
   ],
   "source": [
    "new_models = {\n",
    "          'Ridge': Ridge(alpha=0.5),\n",
    "          'Decision Tree Regressor': DecisionTreeRegressor(random_state=25),\n",
    "          'Random Forest Regressor': RandomForestRegressor(random_state=25),\n",
    "          'KNeighbors Regressor': KNeighborsRegressor()}\n",
    "\n",
    "best_model_dict = {}\n",
    "best_hyper_params = []\n",
    "\n",
    "for (key,val), parameters in zip(new_models.items(), params_list):\n",
    "    best_model, model_best_hp = randomized_search(val, X_train_scaled, y_train, param_grid_=parameters, cv_=5, verbose_=0, n_jobs_=-1, n_iter_= 150)\n",
    "    best_model_dict[key] = best_model\n",
    "    model_best_hp['model'] = key\n",
    "    best_hyper_params.append(model_best_hp)"
   ]
  },
  {
   "cell_type": "markdown",
   "metadata": {},
   "source": [
    "## Explore Gradient Boosting and Adaptive Boosting for a stacking model\n",
    "**EN**  \n",
    "Gradient Boosting and AdaBoost (Adaptive Boosting) are two popular ensemble learning techniques used in machine learning for building predictive models.Gradient Boosting is a technique that combines multiple weak models (usually decision trees) into a strong model. The algorithm works by iteratively training decision trees on the residuals (or errors) of the previous model. In each iteration, the algorithm attempts to minimize the loss function by adjusting the weights of the training examples. The final model is a weighted sum of the individual trees, where each tree is weighted based on its contribution to the overall performance.  \n",
    "\n",
    "AdaBoost, on the other hand, is a similar technique that also combines multiple weak models into a strong model. The key difference is that AdaBoost assigns weights to the training examples and adjusts the weights of the examples that were incorrectly classified in the previous iteration. In each iteration, a new weak model is trained on the updated weights, and the final model is a weighted sum of the individual models.  \n",
    "**FR**  \n",
    "\n",
    "Gradient Boosting et AdaBoost (Adaptive Boosting) sont deux techniques d'apprentissage d'ensemble populaires utilisées dans l'apprentissage automatique pour construire des modèles prédictifs. Le Gradient Boosting est une technique qui combine plusieurs modèles faibles (généralement des arbres de décision) en un modèle fort. L'algorithme fonctionne en formant itérativement des arbres de décision sur les résidus (ou erreurs) du modèle précédent. À chaque itération, l'algorithme tente de minimiser la fonction de perte en ajustant les poids des exemples d'apprentissage. Le modèle final est une somme pondérée des arbres individuels, où chaque arbre est pondéré en fonction de sa contribution à la performance globale.\n",
    "\n",
    "AdaBoost, quant à lui, est une technique similaire qui combine également plusieurs modèles faibles en un modèle fort. La principale différence réside dans le fait qu'AdaBoost attribue des poids aux exemples d'apprentissage et ajuste les poids des exemples qui ont été mal classés lors de l'itération précédente. À chaque itération, un nouveau modèle faible est formé sur la base des poids mis à jour, et le modèle final est une somme pondérée des modèles individuels.\n"
   ]
  },
  {
   "cell_type": "code",
   "execution_count": 35,
   "metadata": {},
   "outputs": [
    {
     "data": {
      "text/plain": [
       "[{'solver': 'cholesky', 'alpha': 5, 'model': 'Ridge'},\n",
       " {'min_samples_split': 3,\n",
       "  'min_samples_leaf': 1,\n",
       "  'max_depth': 8,\n",
       "  'model': 'Decision Tree Regressor'},\n",
       " {'n_estimators': 100,\n",
       "  'min_samples_leaf': 1,\n",
       "  'max_depth': 12,\n",
       "  'ccp_alpha': 0.2,\n",
       "  'bootstrap': True,\n",
       "  'model': 'Random Forest Regressor'},\n",
       " {'n_neighbors': 5,\n",
       "  'leaf_size': 10,\n",
       "  'algorithm': 'ball_tree',\n",
       "  'model': 'KNeighbors Regressor'}]"
      ]
     },
     "execution_count": 35,
     "metadata": {},
     "output_type": "execute_result"
    }
   ],
   "source": [
    "gb = GradientBoostingRegressor(random_state=seed)\n",
    "ada = AdaBoostRegressor(random_state=seed)\n",
    "best_hyper_params"
   ]
  },
  {
   "cell_type": "code",
   "execution_count": 36,
   "metadata": {},
   "outputs": [],
   "source": [
    "boost_models = {\n",
    "    'Gradient Boosting Regressor': gb,\n",
    "    'Ada Boosting':ada}\n",
    "\n",
    "gb_params = {\n",
    "    'learning_rate':[0.01, 0.05, 0.1, 0.2],\n",
    "    'ccp_alpha':[0.01, 0.05, 0.1, 0.2, 0.5],\n",
    "    'max_depth':range(2,11),\n",
    "    'min_weight_fraction_leaf':[0.01, 0.05, 0.1, 0.2],\n",
    "    'n_estimators':range(10,210,10)}\n",
    "\n",
    "dt_base = DecisionTreeRegressor(random_state=seed, max_depth=3)\n",
    "dt_best = DecisionTreeRegressor(max_depth=8, min_samples_split=3, random_state=seed)\n",
    "\n",
    "ada_params = {\n",
    "    'estimator':[dt_base, dt_best],\n",
    "    'learning_rate':[0.01, 0.05, 0.1, 0.2, 0.5],\n",
    "    'n_estimators':range(10,110, 10)}\n",
    "\n",
    "boosting_param_list = [gb_params, ada_params]\n",
    "best_boost_dict = {}\n",
    "best_boost_hp = []\n",
    "\n",
    "\n",
    "for (key,val), parameters in zip(boost_models.items(), boosting_param_list):\n",
    "    best_model, model_best_hp = randomized_search(val, X_train_scaled, y_train, param_grid_=parameters, cv_=10, verbose_=0, n_jobs_=-1, n_iter_= 50)\n",
    "    best_boost_dict[key] = best_model\n",
    "    model_best_hp['model']=key\n",
    "    best_boost_hp.append(model_best_hp)"
   ]
  },
  {
   "cell_type": "code",
   "execution_count": 38,
   "metadata": {},
   "outputs": [],
   "source": [
    "all_models_dict = {}\n",
    "for key, value in best_boost_dict.items():\n",
    "    all_models_dict[key]=value\n",
    "for key, value in best_model_dict.items():\n",
    "    all_models_dict[key]=value"
   ]
  },
  {
   "cell_type": "markdown",
   "metadata": {},
   "source": [
    "**EN**  \n",
    "In the previous cells, we performed a grid search to find the optimal hyperparameters for tree-based regressors, simple linear models, and for Gradient Boosting and AdaBoosting. We then assigned the best model hyperparameters and the best models in a list, and dictionary, respectively. We'll then use the best models in a stacking model which is an ensemble learning technique that combines multiple individual regression models to improve the overall predictive performance of the model. The idea behind stacking is to use the output of the base models as input to a meta-regressor, which learns to combine the base models' predictions into a final prediction.  \n",
    "**FR**  \n",
    "Dans les cellules précédentes, nous avons effectué une recherche en grille pour trouver les hyperparamètres optimaux pour les régresseurs arborescents, les modèles linéaires simples, ainsi que pour le Gradient Boosting et l'AdaBoosting. Nous avons ensuite assigné les meilleurs hyperparamètres de modèle et les meilleurs modèles dans une liste et un dictionnaire, respectivement. Nous utiliserons ensuite les meilleurs modèles dans un modèle d'empilement (stacking model), qui est une technique d'apprentissage d'ensemble combinant plusieurs modèles de régression individuels afin d'améliorer les performances prédictives globales du modèle. L'idée derrière l'empilement est d'utiliser la sortie des modèles de base comme entrée d'un méta-régresseur, qui apprend à combiner les prédictions des modèles de base en une prédiction finale."
   ]
  },
  {
   "cell_type": "markdown",
   "metadata": {},
   "source": [
    "**EN**  \n",
    "We then use the best models to see if there is improvement, which indeed is present, but not by a great margin.  \n",
    "**FR**  \n",
    "Nous utilisons ensuite les meilleurs modèles pour voir s'il y a une amélioration, ce qui est effectivement le cas, mais pas dans une large mesure.  \n"
   ]
  },
  {
   "cell_type": "code",
   "execution_count": 39,
   "metadata": {},
   "outputs": [
    {
     "name": "stdout",
     "output_type": "stream",
     "text": [
      "\u001B[1mGradient Boosting Regressor\u001B[0m cross-validation RMSE: \u001B[1m124393.41\u001B[0m\n",
      "\u001B[1mAda Boosting\u001B[0m cross-validation RMSE: \u001B[1m126334.97\u001B[0m\n",
      "\u001B[1mRidge\u001B[0m cross-validation RMSE: \u001B[1m178265.22\u001B[0m\n",
      "\u001B[1mDecision Tree Regressor\u001B[0m cross-validation RMSE: \u001B[1m136156.93\u001B[0m\n",
      "\u001B[1mRandom Forest Regressor\u001B[0m cross-validation RMSE: \u001B[1m122304.45\u001B[0m\n",
      "\u001B[1mKNeighbors Regressor\u001B[0m cross-validation RMSE: \u001B[1m134350.64\u001B[0m\n"
     ]
    }
   ],
   "source": [
    "all_models_rmse_10_folds = cross_val_rmse_score_printer(all_models_dict, n_folds=10, X_train=X_train_scaled, y_train=y_train)"
   ]
  },
  {
   "cell_type": "markdown",
   "metadata": {},
   "source": [
    "## Stacking Regressor"
   ]
  },
  {
   "cell_type": "code",
   "execution_count": 41,
   "metadata": {},
   "outputs": [],
   "source": [
    "level_0 = [('GBR', all_models_dict['Gradient Boosting Regressor']), ('ADA', all_models_dict['Ada Boosting']), ('RF', all_models_dict['Random Forest Regressor'])]\n",
    "level_1 = lreg\n",
    "stack_model = StackingRegressor(estimators=level_0, final_estimator=level_1, cv=10)\n"
   ]
  },
  {
   "cell_type": "code",
   "execution_count": 42,
   "metadata": {},
   "outputs": [
    {
     "data": {
      "text/plain": [
       "{'Gradient Boosting Regressor': GradientBoostingRegressor(ccp_alpha=0.5, learning_rate=0.2, max_depth=9,\n",
       "                           min_weight_fraction_leaf=0.01, n_estimators=140,\n",
       "                           random_state=4),\n",
       " 'Ada Boosting': AdaBoostRegressor(estimator=DecisionTreeRegressor(max_depth=8,\n",
       "                                                   min_samples_split=3,\n",
       "                                                   random_state=4),\n",
       "                   learning_rate=0.5, n_estimators=80, random_state=4),\n",
       " 'Ridge': Ridge(alpha=5, solver='cholesky'),\n",
       " 'Decision Tree Regressor': DecisionTreeRegressor(max_depth=8, min_samples_split=3, random_state=25),\n",
       " 'Random Forest Regressor': RandomForestRegressor(ccp_alpha=0.2, max_depth=12, random_state=25),\n",
       " 'KNeighbors Regressor': KNeighborsRegressor(algorithm='ball_tree', leaf_size=10)}"
      ]
     },
     "execution_count": 42,
     "metadata": {},
     "output_type": "execute_result"
    }
   ],
   "source": [
    "all_models_dict"
   ]
  },
  {
   "cell_type": "code",
   "execution_count": 43,
   "metadata": {},
   "outputs": [
    {
     "name": "stdout",
     "output_type": "stream",
     "text": [
      "Stacking Regressor RMSE: \u001B[1m120561.77620917767\u001B[0m\n"
     ]
    }
   ],
   "source": [
    "stack_rmse = cross_val_rmse_(stack_model, X_train_scaled, y_train, 10, scoring_='neg_mean_squared_error')\n",
    "print(f\"Stacking Regressor RMSE: \\033[1m{stack_rmse}\\033[0m\")"
   ]
  },
  {
   "cell_type": "markdown",
   "metadata": {},
   "source": [
    "**EN**  \n",
    "We indeed see a 2000 improvement on the RMSE score. We'll see if the model holds-up its leading position on the test dataset.  \n",
    "**FR**  \n",
    "Nous constatons en effet une amélioration de 2000 du score RMSE. Nous verrons si le modèle maintient sa position de leader sur l'ensemble de données de test\n"
   ]
  },
  {
   "cell_type": "markdown",
   "metadata": {},
   "source": [
    "**EN**  \n",
    "We're going to use the 3 best performing models for the final evaluation on both the train and test sets and draw the conclusions.  \n",
    "**FR**  \n",
    "Nous allons utiliser les 3 modèles les plus performants pour l'évaluation finale sur les ensembles de formation et de test et tirer les conclusions.  "
   ]
  },
  {
   "cell_type": "code",
   "execution_count": 63,
   "metadata": {},
   "outputs": [],
   "source": [
    "final_models = {\n",
    "    'Random Forest': all_models_dict['Random Forest Regressor'],\n",
    "    'Gradient Boost': all_models_dict['Gradient Boosting Regressor'],\n",
    "    'Stacking': stack_model\n",
    "}"
   ]
  },
  {
   "cell_type": "code",
   "execution_count": 50,
   "metadata": {},
   "outputs": [
    {
     "name": "stdout",
     "output_type": "stream",
     "text": [
      "\u001B[1mRandom Forest\u001B[0m RMSE on test data: \u001B[1m110301.36799278643\u001B[0m\n",
      "\u001B[1mGradient Boost\u001B[0m RMSE on test data: \u001B[1m118130.82089492359\u001B[0m\n",
      "\u001B[1mStacking\u001B[0m RMSE on test data: \u001B[1m111372.33032507873\u001B[0m\n",
      "--------------------------------------------------\n",
      "\u001B[1mRandom Forest\u001B[0m RMSE on train data: \u001B[1m70384.57559745459\u001B[0m\n",
      "\u001B[1mGradient Boost\u001B[0m RMSE on train data: \u001B[1m102369.97286098977\u001B[0m\n",
      "\u001B[1mStacking\u001B[0m RMSE on train data: \u001B[1m82092.64069230294\u001B[0m\n"
     ]
    }
   ],
   "source": [
    "rmses_test = {}\n",
    "rmses_train = {}\n",
    "y_predicts = {}\n",
    "y_train_predicts = {}\n",
    "for name, model in final_models.items():\n",
    "    model.fit(X_train_scaled, y_train)\n",
    "    y_pred = model.predict(X_test_scaled)\n",
    "    y_train_pred = model.predict(X_train_scaled)\n",
    "    rmse_y = mean_squared_error(y_test, y_pred, squared=False)\n",
    "    rmse_y_train = mean_squared_error(y_train, y_train_pred, squared=False)\n",
    "    rmses_test[name] = rmse_y\n",
    "    rmses_train[name] = rmse_y_train\n",
    "    y_predicts[name] = y_pred\n",
    "    y_train_predicts[name] = y_train_pred\n",
    "\n",
    "for key, value in rmses_test.items():\n",
    "    print(f\"\\033[1m{key}\\033[0m RMSE on test data: \\033[1m{value}\\033[0m\")\n",
    "print(f\"{'-'*50}\")\n",
    "for key, value in rmses_train.items():\n",
    "     print(f\"\\033[1m{key}\\033[0m RMSE on train data: \\033[1m{value}\\033[0m\")"
   ]
  },
  {
   "cell_type": "markdown",
   "metadata": {},
   "source": [
    "**EN**  \n",
    "After analyzing the train and test RMSEs we can see that the best-performing model on the test dataset is still the stacking model, since the difference in train and test RMSEs is the smallest for Gradient Boosting, it would be a winner here - it generalizes the best.  \n",
    "**FR**  \n",
    "Après avoir analysé les RMSE de formation et de test, nous pouvons voir que le modèle le plus performant sur l'ensemble de données de test est toujours le modèle d'empilage, puisque la différence entre les RMSE de formation et de test est la plus faible pour le Gradient Boosting, il devrait être le gagnant ici - il généralise le mieux. "
   ]
  },
  {
   "cell_type": "code",
   "execution_count": 51,
   "metadata": {},
   "outputs": [],
   "source": [
    "for key, value in y_predicts.items():\n",
    "    y_predicts[key]=value.tolist()\n",
    "df_predicts = pd.DataFrame(y_predicts)\n",
    "df_predicts['y_test'] = y_test\n",
    "df_predicts.columns = df_predicts.columns.str.lower().str.replace(\" \",\"_\")"
   ]
  },
  {
   "cell_type": "code",
   "execution_count": 52,
   "metadata": {},
   "outputs": [],
   "source": [
    "for key, value in y_train_predicts.items():\n",
    "    y_train_predicts[key]=value.tolist()"
   ]
  },
  {
   "cell_type": "code",
   "execution_count": 53,
   "metadata": {},
   "outputs": [],
   "source": [
    "df_train_predicts = pd.DataFrame(y_train_predicts)\n",
    "df_train_predicts['y_test'] = y_train\n",
    "df_train_predicts.columns = df_train_predicts.columns.str.lower().str.replace(\" \",\"_\")"
   ]
  },
  {
   "cell_type": "code",
   "execution_count": 54,
   "metadata": {},
   "outputs": [
    {
     "data": {
      "text/html": [
       "<div>\n",
       "<style scoped>\n",
       "    .dataframe tbody tr th:only-of-type {\n",
       "        vertical-align: middle;\n",
       "    }\n",
       "\n",
       "    .dataframe tbody tr th {\n",
       "        vertical-align: top;\n",
       "    }\n",
       "\n",
       "    .dataframe thead th {\n",
       "        text-align: right;\n",
       "    }\n",
       "</style>\n",
       "<table border=\"1\" class=\"dataframe\">\n",
       "  <thead>\n",
       "    <tr style=\"text-align: right;\">\n",
       "      <th></th>\n",
       "      <th>random_forest</th>\n",
       "      <th>gradient_boost</th>\n",
       "      <th>stacking</th>\n",
       "      <th>y_test</th>\n",
       "    </tr>\n",
       "  </thead>\n",
       "  <tbody>\n",
       "    <tr>\n",
       "      <th>0</th>\n",
       "      <td>634243.259602</td>\n",
       "      <td>641553.030535</td>\n",
       "      <td>645291.657396</td>\n",
       "      <td>598000.0</td>\n",
       "    </tr>\n",
       "    <tr>\n",
       "      <th>1</th>\n",
       "      <td>362413.282627</td>\n",
       "      <td>365960.455876</td>\n",
       "      <td>363537.387639</td>\n",
       "      <td>370000.0</td>\n",
       "    </tr>\n",
       "    <tr>\n",
       "      <th>2</th>\n",
       "      <td>309095.568952</td>\n",
       "      <td>310996.095565</td>\n",
       "      <td>306983.776271</td>\n",
       "      <td>290000.0</td>\n",
       "    </tr>\n",
       "    <tr>\n",
       "      <th>3</th>\n",
       "      <td>366221.625857</td>\n",
       "      <td>371030.089156</td>\n",
       "      <td>369306.083125</td>\n",
       "      <td>364000.0</td>\n",
       "    </tr>\n",
       "    <tr>\n",
       "      <th>4</th>\n",
       "      <td>358784.241380</td>\n",
       "      <td>430046.114602</td>\n",
       "      <td>391630.880412</td>\n",
       "      <td>370000.0</td>\n",
       "    </tr>\n",
       "  </tbody>\n",
       "</table>\n",
       "</div>"
      ],
      "text/plain": [
       "   random_forest  gradient_boost       stacking    y_test\n",
       "0  634243.259602   641553.030535  645291.657396  598000.0\n",
       "1  362413.282627   365960.455876  363537.387639  370000.0\n",
       "2  309095.568952   310996.095565  306983.776271  290000.0\n",
       "3  366221.625857   371030.089156  369306.083125  364000.0\n",
       "4  358784.241380   430046.114602  391630.880412  370000.0"
      ]
     },
     "execution_count": 54,
     "metadata": {},
     "output_type": "execute_result"
    }
   ],
   "source": [
    "df_train_predicts.head()"
   ]
  },
  {
   "cell_type": "markdown",
   "metadata": {},
   "source": [
    "**EN**  \n",
    "Here we have a dataframe that shows the true values and the predicted ones for the best 3 performing models.  \n",
    "**FR**  \n",
    "Nous avons ici un cadre de données qui montre les valeurs réelles et les valeurs prédites pour les 3 modèles les plus performants. "
   ]
  },
  {
   "cell_type": "code",
   "execution_count": 55,
   "metadata": {},
   "outputs": [],
   "source": [
    "for col in df_predicts.columns:\n",
    "    df_predicts[col] = np.round(df_predicts[col], 2)\n",
    "    df_train_predicts[col] = np.round(df_train_predicts[col], 2)"
   ]
  },
  {
   "cell_type": "code",
   "execution_count": 56,
   "metadata": {},
   "outputs": [],
   "source": [
    "cols = [col for col in df_predicts.columns if col!='y_test']\n",
    "for col in cols:\n",
    "    col_err = col+'_error'\n",
    "    col_rmse = col+'_rmse'\n",
    "    df_predicts[col_err] = np.abs(df_predicts[col] - df_predicts['y_test'])\n",
    "    df_train_predicts[col_err] = np.abs(df_train_predicts[col] - df_train_predicts['y_test'])"
   ]
  },
  {
   "cell_type": "code",
   "execution_count": 57,
   "metadata": {},
   "outputs": [
    {
     "data": {
      "text/html": [
       "<div>\n",
       "<style scoped>\n",
       "    .dataframe tbody tr th:only-of-type {\n",
       "        vertical-align: middle;\n",
       "    }\n",
       "\n",
       "    .dataframe tbody tr th {\n",
       "        vertical-align: top;\n",
       "    }\n",
       "\n",
       "    .dataframe thead th {\n",
       "        text-align: right;\n",
       "    }\n",
       "</style>\n",
       "<table border=\"1\" class=\"dataframe\">\n",
       "  <thead>\n",
       "    <tr style=\"text-align: right;\">\n",
       "      <th></th>\n",
       "      <th>random_forest</th>\n",
       "      <th>gradient_boost</th>\n",
       "      <th>stacking</th>\n",
       "      <th>y_test</th>\n",
       "      <th>random_forest_error</th>\n",
       "      <th>gradient_boost_error</th>\n",
       "      <th>stacking_error</th>\n",
       "    </tr>\n",
       "  </thead>\n",
       "  <tbody>\n",
       "    <tr>\n",
       "      <th>0</th>\n",
       "      <td>130253.51</td>\n",
       "      <td>118976.26</td>\n",
       "      <td>125047.78</td>\n",
       "      <td>143000.0</td>\n",
       "      <td>12746.49</td>\n",
       "      <td>24023.74</td>\n",
       "      <td>17952.22</td>\n",
       "    </tr>\n",
       "    <tr>\n",
       "      <th>1</th>\n",
       "      <td>560159.36</td>\n",
       "      <td>600439.39</td>\n",
       "      <td>578694.63</td>\n",
       "      <td>715000.0</td>\n",
       "      <td>154840.64</td>\n",
       "      <td>114560.61</td>\n",
       "      <td>136305.37</td>\n",
       "    </tr>\n",
       "    <tr>\n",
       "      <th>2</th>\n",
       "      <td>437965.01</td>\n",
       "      <td>504782.16</td>\n",
       "      <td>461790.89</td>\n",
       "      <td>661500.0</td>\n",
       "      <td>223534.99</td>\n",
       "      <td>156717.84</td>\n",
       "      <td>199709.11</td>\n",
       "    </tr>\n",
       "    <tr>\n",
       "      <th>3</th>\n",
       "      <td>218652.19</td>\n",
       "      <td>204301.14</td>\n",
       "      <td>211946.61</td>\n",
       "      <td>194250.0</td>\n",
       "      <td>24402.19</td>\n",
       "      <td>10051.14</td>\n",
       "      <td>17696.61</td>\n",
       "    </tr>\n",
       "    <tr>\n",
       "      <th>4</th>\n",
       "      <td>806680.17</td>\n",
       "      <td>826518.69</td>\n",
       "      <td>819396.95</td>\n",
       "      <td>920000.0</td>\n",
       "      <td>113319.83</td>\n",
       "      <td>93481.31</td>\n",
       "      <td>100603.05</td>\n",
       "    </tr>\n",
       "  </tbody>\n",
       "</table>\n",
       "</div>"
      ],
      "text/plain": [
       "   random_forest  gradient_boost   stacking    y_test  random_forest_error   \n",
       "0      130253.51       118976.26  125047.78  143000.0             12746.49  \\\n",
       "1      560159.36       600439.39  578694.63  715000.0            154840.64   \n",
       "2      437965.01       504782.16  461790.89  661500.0            223534.99   \n",
       "3      218652.19       204301.14  211946.61  194250.0             24402.19   \n",
       "4      806680.17       826518.69  819396.95  920000.0            113319.83   \n",
       "\n",
       "   gradient_boost_error  stacking_error  \n",
       "0              24023.74        17952.22  \n",
       "1             114560.61       136305.37  \n",
       "2             156717.84       199709.11  \n",
       "3              10051.14        17696.61  \n",
       "4              93481.31       100603.05  "
      ]
     },
     "execution_count": 57,
     "metadata": {},
     "output_type": "execute_result"
    }
   ],
   "source": [
    "df_predicts.head()"
   ]
  },
  {
   "cell_type": "code",
   "execution_count": 58,
   "metadata": {},
   "outputs": [],
   "source": [
    "df_pred_sorted = df_predicts.sort_values(\"y_test\").reset_index(drop=True)\n",
    "df_pred_sorted_first_100 = df_pred_sorted.loc[:100,]"
   ]
  },
  {
   "cell_type": "markdown",
   "metadata": {},
   "source": [
    "**EN**  \n",
    "Finally, we'll plot the errors made by our models for the first 100 rows.  \n",
    "**FR**  \n",
    "Enfin, nous tracerons les erreurs commises par nos modèles pour les 100 premières lignes. "
   ]
  },
  {
   "cell_type": "code",
   "execution_count": 60,
   "metadata": {},
   "outputs": [
    {
     "data": {
      "image/png": "[encoded data removed]",
      "text/plain": [
       "<Figure size 1600x900 with 1 Axes>"
      ]
     },
     "metadata": {},
     "output_type": "display_data"
    }
   ],
   "source": [
    "plt.subplots(figsize=(16,9))\n",
    "plt.scatter(df_pred_sorted_first_100.index, df_pred_sorted_first_100.gradient_boost_error, label='Gradient Boosting error',\n",
    "         color='red', alpha = 0.5)\n",
    "plt.scatter(df_pred_sorted_first_100.index, df_pred_sorted_first_100.random_forest_error, label='Random Forest error',\n",
    "         color='green', marker = '^', alpha = 0.5)\n",
    "plt.scatter(df_pred_sorted_first_100.index, df_pred_sorted_first_100.stacking_error, label='Stacking error',\n",
    "         color='navy', marker = 'x', alpha=0.5)\n",
    "plt.legend()\n",
    "plt.show()\n"
   ]
  },
  {
   "cell_type": "markdown",
   "metadata": {},
   "source": [
    "**EN**  \n",
    "Here we have a plot of the true prices (red line) and the predicted values (stacking model).  \n",
    "**FR**  \n",
    "Ci-dessous nous avons une représentation graphique des prix réels (ligne rouge) et des valeurs prédites (stacking model). "
   ]
  },
  {
   "cell_type": "code",
   "execution_count": 61,
   "metadata": {},
   "outputs": [
    {
     "data": {
      "image/png": "[encoded data removed]",
      "text/plain": [
       "<Figure size 1600x900 with 1 Axes>"
      ]
     },
     "metadata": {},
     "output_type": "display_data"
    }
   ],
   "source": [
    "plt.subplots(figsize=(16,9))\n",
    "plt.plot(df_pred_sorted.index, df_pred_sorted.y_test, color='red', label='True value', linewidth=3)\n",
    "plt.scatter(df_pred_sorted.index, df_pred_sorted.stacking, color = 'navy', marker='x', alpha=0.5, label='Test Predictions', linewidth=2)\n",
    "plt.legend()\n",
    "plt.show()\n"
   ]
  },
  {
   "cell_type": "code",
   "execution_count": 64,
   "metadata": {},
   "outputs": [
    {
     "name": "stdout",
     "output_type": "stream",
     "text": [
      "Random Forest R squared: 0.8846039654403245\n",
      "Gradient Boost R squared: 0.8680433317338498\n",
      "Stacking R squared: 0.8813722357295988\n"
     ]
    }
   ],
   "source": [
    "for name, model in final_models.items():\n",
    "    model.fit(X_train, y_train)\n",
    "    print(f\"{name} R squared: {model.score(X_test, y_test)}\")"
   ]
  },
  {
   "cell_type": "markdown",
   "metadata": {},
   "source": [
    "**EN**  \n",
    "Finally we see that our models and our selected features can roughly explain between 86% and 88% of the variance in the target variable: price.  \n",
    "**FR**  \n",
    "Enfin, nous constatons que nos modèles et les caractéristiques que nous avons sélectionnées peuvent expliquer approximativement entre 86 % et 88 % de la variance de la variable cible : le prix.  "
   ]
  },
  {
   "cell_type": "code",
   "execution_count": null,
   "metadata": {},
   "outputs": [],
   "source": []
  }
 ],
 "metadata": {
  "kernelspec": {
   "display_name": "Python 3 (ipykernel)",
   "language": "python",
   "name": "python3"
  },
  "language_info": {
   "codemirror_mode": {
    "name": "ipython",
    "version": 3
   },
   "file_extension": ".py",
   "mimetype": "text/x-python",
   "name": "python",
   "nbconvert_exporter": "python",
   "pygments_lexer": "ipython3",
   "version": "3.10.4"
  }
 },
 "nbformat": 4,
 "nbformat_minor": 1
}
